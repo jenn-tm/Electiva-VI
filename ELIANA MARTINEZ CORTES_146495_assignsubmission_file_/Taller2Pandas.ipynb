{
 "cells": [
  {
   "cell_type": "markdown",
   "metadata": {},
   "source": [
    "# Taller de Pandas\n",
    "Complete los  siguientes ejercicios por pasos que se plantean en este cuaderno usando la libreria Pandas"
   ]
  },
  {
   "cell_type": "markdown",
   "metadata": {},
   "source": [
    "## Importando pandas\n",
    "\n",
    " \n",
    "\n",
    "**1.** importe pandas usando el alias `pd`."
   ]
  },
  {
   "cell_type": "code",
   "execution_count": 1,
   "metadata": {},
   "outputs": [],
   "source": [
    "import pandas as pd"
   ]
  },
  {
   "cell_type": "markdown",
   "metadata": {},
   "source": [
    "**2.** imprima la version de pandas que ha sido importada."
   ]
  },
  {
   "cell_type": "code",
   "execution_count": 2,
   "metadata": {},
   "outputs": [
    {
     "name": "stdout",
     "output_type": "stream",
     "text": [
      "0.25.1\n"
     ]
    }
   ],
   "source": [
    "print(pd.__version__)"
   ]
  },
  {
   "cell_type": "markdown",
   "metadata": {},
   "source": [
    "## usando DataFrames\n",
    "\n",
    "### Algunas rutinas para seleccionar, ordenar sumar y añadir datos a  un Dataframe\n",
    "\n",
    "Nota: recuerde importar numpy usando:\n",
    "```python\n",
    "import numpy as np\n",
    "```\n",
    "\n",
    "considere el siguente diccionario llamado `data` y la lista llamada `labels`:\n",
    "\n",
    "``` python\n",
    "data = {'animal': ['gato', 'gato', 'serpiente', 'perro', 'perro', 'gato', 'serpiente', 'gato', 'perro', 'perro'],\n",
    "        'edad': [2.5, 3, 0.5, np.nan, 5, 2, 4.5, np.nan, 7, 3],\n",
    "        'visitas': [1, 3, 2, 3, 2, 3, 1, 1, 2, 1],\n",
    "        'prioridad': ['si', 'si', 'no', 'si', 'no', 'no', 'no', 'si', 'no', 'no']}\n",
    "\n",
    "labels = ['a', 'b', 'c', 'd', 'e', 'f', 'g', 'h', 'i', 'j']\n",
    "```\n",
    "(relacion de animales y visitas al veterinario)\n",
    "\n",
    "**4.** cree un dataframe `df` a partir del diccionario `data` con los indices de la lista `labels`."
   ]
  },
  {
   "cell_type": "code",
   "execution_count": 21,
   "metadata": {},
   "outputs": [
    {
     "name": "stdout",
     "output_type": "stream",
     "text": [
      "      animal  edad  visitas prioridad\n",
      "a       gato   2.5        1        si\n",
      "b       gato   3.0        3        si\n",
      "c  serpiente   0.5        2        no\n",
      "d      perro   NaN        3        si\n",
      "e      perro   5.0        2        no\n",
      "f       gato   2.0        3        no\n",
      "g  serpiente   4.5        1        no\n",
      "h       gato   NaN        1        si\n",
      "i      perro   7.0        2        no\n",
      "j      perro   3.0        1        no\n"
     ]
    }
   ],
   "source": [
    "import numpy as np\n",
    "\n",
    "data = {'animal': ['gato', 'gato', 'serpiente', 'perro', 'perro', 'gato', 'serpiente', 'gato', 'perro', 'perro'],\n",
    "        'edad': [2.5, 3, 0.5, np.nan, 5, 2, 4.5, np.nan, 7, 3],\n",
    "        'visitas': [1, 3, 2, 3, 2, 3, 1, 1, 2, 1],\n",
    "        'prioridad': ['si', 'si', 'no', 'si', 'no', 'no', 'no', 'si', 'no', 'no']}\n",
    "\n",
    "labels = ['a', 'b', 'c', 'd', 'e', 'f', 'g', 'h', 'i', 'j']\n",
    "#print(data)\n",
    "\n",
    "#CReando el dataframe\n",
    "#df = # (complete esta linea)\n",
    "df = pd.DataFrame(data, labels)\n",
    "print(df)"
   ]
  },
  {
   "cell_type": "markdown",
   "metadata": {},
   "source": [
    "**5.** Muestre un resumen de la información básica sobre este DataFrame y sus datos (*pista: hay un método único al que se puede llamar en el DataFrame*)."
   ]
  },
  {
   "cell_type": "code",
   "execution_count": 4,
   "metadata": {},
   "outputs": [
    {
     "name": "stdout",
     "output_type": "stream",
     "text": [
      "<class 'pandas.core.frame.DataFrame'>\n",
      "Index: 10 entries, a to j\n",
      "Data columns (total 4 columns):\n",
      "animal       10 non-null object\n",
      "edad         8 non-null float64\n",
      "visitas      10 non-null int64\n",
      "prioridad    10 non-null object\n",
      "dtypes: float64(1), int64(1), object(2)\n",
      "memory usage: 400.0+ bytes\n"
     ]
    },
    {
     "data": {
      "text/html": [
       "<div>\n",
       "<style scoped>\n",
       "    .dataframe tbody tr th:only-of-type {\n",
       "        vertical-align: middle;\n",
       "    }\n",
       "\n",
       "    .dataframe tbody tr th {\n",
       "        vertical-align: top;\n",
       "    }\n",
       "\n",
       "    .dataframe thead th {\n",
       "        text-align: right;\n",
       "    }\n",
       "</style>\n",
       "<table border=\"1\" class=\"dataframe\">\n",
       "  <thead>\n",
       "    <tr style=\"text-align: right;\">\n",
       "      <th></th>\n",
       "      <th>edad</th>\n",
       "      <th>visitas</th>\n",
       "    </tr>\n",
       "  </thead>\n",
       "  <tbody>\n",
       "    <tr>\n",
       "      <td>count</td>\n",
       "      <td>8.000000</td>\n",
       "      <td>10.000000</td>\n",
       "    </tr>\n",
       "    <tr>\n",
       "      <td>mean</td>\n",
       "      <td>3.437500</td>\n",
       "      <td>1.900000</td>\n",
       "    </tr>\n",
       "    <tr>\n",
       "      <td>std</td>\n",
       "      <td>2.007797</td>\n",
       "      <td>0.875595</td>\n",
       "    </tr>\n",
       "    <tr>\n",
       "      <td>min</td>\n",
       "      <td>0.500000</td>\n",
       "      <td>1.000000</td>\n",
       "    </tr>\n",
       "    <tr>\n",
       "      <td>25%</td>\n",
       "      <td>2.375000</td>\n",
       "      <td>1.000000</td>\n",
       "    </tr>\n",
       "    <tr>\n",
       "      <td>50%</td>\n",
       "      <td>3.000000</td>\n",
       "      <td>2.000000</td>\n",
       "    </tr>\n",
       "    <tr>\n",
       "      <td>75%</td>\n",
       "      <td>4.625000</td>\n",
       "      <td>2.750000</td>\n",
       "    </tr>\n",
       "    <tr>\n",
       "      <td>max</td>\n",
       "      <td>7.000000</td>\n",
       "      <td>3.000000</td>\n",
       "    </tr>\n",
       "  </tbody>\n",
       "</table>\n",
       "</div>"
      ],
      "text/plain": [
       "           edad    visitas\n",
       "count  8.000000  10.000000\n",
       "mean   3.437500   1.900000\n",
       "std    2.007797   0.875595\n",
       "min    0.500000   1.000000\n",
       "25%    2.375000   1.000000\n",
       "50%    3.000000   2.000000\n",
       "75%    4.625000   2.750000\n",
       "max    7.000000   3.000000"
      ]
     },
     "execution_count": 4,
     "metadata": {},
     "output_type": "execute_result"
    }
   ],
   "source": [
    "df.info() #Se utiliza para obtener un resumen conciso del marco de datos\n",
    "df.describe() #Genera estadísticas descriptivas"
   ]
  },
  {
   "cell_type": "markdown",
   "metadata": {},
   "source": [
    "**6.** visualice las primeras 3 filas del DataFrame `df`."
   ]
  },
  {
   "cell_type": "code",
   "execution_count": 5,
   "metadata": {},
   "outputs": [
    {
     "data": {
      "text/html": [
       "<div>\n",
       "<style scoped>\n",
       "    .dataframe tbody tr th:only-of-type {\n",
       "        vertical-align: middle;\n",
       "    }\n",
       "\n",
       "    .dataframe tbody tr th {\n",
       "        vertical-align: top;\n",
       "    }\n",
       "\n",
       "    .dataframe thead th {\n",
       "        text-align: right;\n",
       "    }\n",
       "</style>\n",
       "<table border=\"1\" class=\"dataframe\">\n",
       "  <thead>\n",
       "    <tr style=\"text-align: right;\">\n",
       "      <th></th>\n",
       "      <th>animal</th>\n",
       "      <th>edad</th>\n",
       "      <th>visitas</th>\n",
       "      <th>prioridad</th>\n",
       "    </tr>\n",
       "  </thead>\n",
       "  <tbody>\n",
       "    <tr>\n",
       "      <td>a</td>\n",
       "      <td>gato</td>\n",
       "      <td>2.5</td>\n",
       "      <td>1</td>\n",
       "      <td>si</td>\n",
       "    </tr>\n",
       "    <tr>\n",
       "      <td>b</td>\n",
       "      <td>gato</td>\n",
       "      <td>3.0</td>\n",
       "      <td>3</td>\n",
       "      <td>si</td>\n",
       "    </tr>\n",
       "    <tr>\n",
       "      <td>c</td>\n",
       "      <td>serpiente</td>\n",
       "      <td>0.5</td>\n",
       "      <td>2</td>\n",
       "      <td>no</td>\n",
       "    </tr>\n",
       "  </tbody>\n",
       "</table>\n",
       "</div>"
      ],
      "text/plain": [
       "      animal  edad  visitas prioridad\n",
       "a       gato   2.5        1        si\n",
       "b       gato   3.0        3        si\n",
       "c  serpiente   0.5        2        no"
      ]
     },
     "execution_count": 5,
     "metadata": {},
     "output_type": "execute_result"
    }
   ],
   "source": [
    "df.head(3) #Devuelve las primeras n filas."
   ]
  },
  {
   "cell_type": "markdown",
   "metadata": {},
   "source": [
    "**7.** Seleccione solo las columnas 'animal' y 'edad' del DataFrame `df`."
   ]
  },
  {
   "cell_type": "code",
   "execution_count": 6,
   "metadata": {},
   "outputs": [
    {
     "name": "stdout",
     "output_type": "stream",
     "text": [
      "Con drop:\n",
      "       animal  edad\n",
      "a       gato   2.5\n",
      "b       gato   3.0\n",
      "c  serpiente   0.5\n",
      "d      perro   NaN\n",
      "e      perro   5.0\n",
      "f       gato   2.0\n",
      "g  serpiente   4.5\n",
      "h       gato   NaN\n",
      "i      perro   7.0\n",
      "j      perro   3.0\n",
      "\n",
      "Con iloc:\n",
      "       animal  edad\n",
      "a       gato   2.5\n",
      "b       gato   3.0\n",
      "c  serpiente   0.5\n",
      "d      perro   NaN\n",
      "e      perro   5.0\n",
      "f       gato   2.0\n",
      "g  serpiente   4.5\n",
      "h       gato   NaN\n",
      "i      perro   7.0\n",
      "j      perro   3.0\n"
     ]
    }
   ],
   "source": [
    "op1 = df.drop(['visitas','prioridad'], axis = 'columns', inplace=False) #Elimina las etiquetas especificadas de filas o columnas\n",
    "print('Con drop:\\n',op1)\n",
    "op2 = df.iloc[:, [0,1]] #Se utiliza en los DataFrames para seleccionar los elementos en base a su ubicación\n",
    "print('\\nCon iloc:\\n',op2)"
   ]
  },
  {
   "cell_type": "markdown",
   "metadata": {},
   "source": [
    "**8.** Seleccione los datos en las filas [3, 4, 8]   en las columnas ['animal', 'edad']."
   ]
  },
  {
   "cell_type": "code",
   "execution_count": 7,
   "metadata": {},
   "outputs": [
    {
     "data": {
      "text/html": [
       "<div>\n",
       "<style scoped>\n",
       "    .dataframe tbody tr th:only-of-type {\n",
       "        vertical-align: middle;\n",
       "    }\n",
       "\n",
       "    .dataframe tbody tr th {\n",
       "        vertical-align: top;\n",
       "    }\n",
       "\n",
       "    .dataframe thead th {\n",
       "        text-align: right;\n",
       "    }\n",
       "</style>\n",
       "<table border=\"1\" class=\"dataframe\">\n",
       "  <thead>\n",
       "    <tr style=\"text-align: right;\">\n",
       "      <th></th>\n",
       "      <th>animal</th>\n",
       "      <th>edad</th>\n",
       "    </tr>\n",
       "  </thead>\n",
       "  <tbody>\n",
       "    <tr>\n",
       "      <td>d</td>\n",
       "      <td>perro</td>\n",
       "      <td>NaN</td>\n",
       "    </tr>\n",
       "    <tr>\n",
       "      <td>e</td>\n",
       "      <td>perro</td>\n",
       "      <td>5.0</td>\n",
       "    </tr>\n",
       "    <tr>\n",
       "      <td>i</td>\n",
       "      <td>perro</td>\n",
       "      <td>7.0</td>\n",
       "    </tr>\n",
       "  </tbody>\n",
       "</table>\n",
       "</div>"
      ],
      "text/plain": [
       "  animal  edad\n",
       "d  perro   NaN\n",
       "e  perro   5.0\n",
       "i  perro   7.0"
      ]
     },
     "execution_count": 7,
     "metadata": {},
     "output_type": "execute_result"
    }
   ],
   "source": [
    "df.iloc[[3, 4, 8], [0, 1]] #seleccionar los elementos iloc[<filas>, <columnas>]"
   ]
  },
  {
   "cell_type": "markdown",
   "metadata": {},
   "source": [
    "**9.** Seleccione solo las filas en las que el número de visitas sea superior a 3."
   ]
  },
  {
   "cell_type": "code",
   "execution_count": 8,
   "metadata": {},
   "outputs": [
    {
     "name": "stdout",
     "output_type": "stream",
     "text": [
      "Con seleccionar el indice y condicionar:\n",
      "   animal  edad  visitas prioridad\n",
      "b   gato   3.0        3        si\n",
      "d  perro   NaN        3        si\n",
      "f   gato   2.0        3        no\n",
      "\n",
      "Con loc:\n",
      "   animal  edad  visitas prioridad\n",
      "b   gato   3.0        3        si\n",
      "d  perro   NaN        3        si\n",
      "f   gato   2.0        3        no\n"
     ]
    }
   ],
   "source": [
    "# Solo superior a 3 no hay ningun elemento \n",
    "df[df['visitas'] > 3] #Vacio\n",
    "\n",
    "# Superior o igual a 3 si hay elemento \n",
    "op1 = df[df['visitas'] >= 3] \n",
    "print('Con seleccionar el indice y condicionar:\\n',op1)\n",
    "\n",
    "#loc se puede usar para seleccionar filas o columnas en base a una condición.\n",
    "oploc = df.loc[:,'visitas'] >= 3\n",
    "oploc = df.loc[oploc]\n",
    "print('\\nCon loc:\\n',oploc)\n"
   ]
  },
  {
   "cell_type": "markdown",
   "metadata": {},
   "source": [
    "**10.** Seleccione las filas donde falta la edad, es decir, es `NaN`."
   ]
  },
  {
   "cell_type": "code",
   "execution_count": 9,
   "metadata": {},
   "outputs": [
    {
     "name": "stdout",
     "output_type": "stream",
     "text": [
      "d   NaN\n",
      "h   NaN\n",
      "Name: edad, dtype: float64\n"
     ]
    }
   ],
   "source": [
    "edad_NaN = df[pd.isnull(df['edad'])]['edad'] #Detecta valores nulos\n",
    "print(edad_NaN)"
   ]
  },
  {
   "cell_type": "markdown",
   "metadata": {},
   "source": [
    "**11.** Seleccione las filas donde el animal es un gato *y* la edad es menor de 3."
   ]
  },
  {
   "cell_type": "code",
   "execution_count": 10,
   "metadata": {},
   "outputs": [
    {
     "data": {
      "text/html": [
       "<div>\n",
       "<style scoped>\n",
       "    .dataframe tbody tr th:only-of-type {\n",
       "        vertical-align: middle;\n",
       "    }\n",
       "\n",
       "    .dataframe tbody tr th {\n",
       "        vertical-align: top;\n",
       "    }\n",
       "\n",
       "    .dataframe thead th {\n",
       "        text-align: right;\n",
       "    }\n",
       "</style>\n",
       "<table border=\"1\" class=\"dataframe\">\n",
       "  <thead>\n",
       "    <tr style=\"text-align: right;\">\n",
       "      <th></th>\n",
       "      <th>animal</th>\n",
       "      <th>edad</th>\n",
       "      <th>visitas</th>\n",
       "      <th>prioridad</th>\n",
       "    </tr>\n",
       "  </thead>\n",
       "  <tbody>\n",
       "    <tr>\n",
       "      <td>a</td>\n",
       "      <td>gato</td>\n",
       "      <td>2.5</td>\n",
       "      <td>1</td>\n",
       "      <td>si</td>\n",
       "    </tr>\n",
       "    <tr>\n",
       "      <td>f</td>\n",
       "      <td>gato</td>\n",
       "      <td>2.0</td>\n",
       "      <td>3</td>\n",
       "      <td>no</td>\n",
       "    </tr>\n",
       "  </tbody>\n",
       "</table>\n",
       "</div>"
      ],
      "text/plain": [
       "  animal  edad  visitas prioridad\n",
       "a   gato   2.5        1        si\n",
       "f   gato   2.0        3        no"
      ]
     },
     "execution_count": 10,
     "metadata": {},
     "output_type": "execute_result"
    }
   ],
   "source": [
    "df[(df.animal == 'gato') & (df.edad < 3)] "
   ]
  },
  {
   "cell_type": "markdown",
   "metadata": {},
   "source": [
    "**12.** Seleccione las filas cuya edad está entre 2 y 4 (inclusive)."
   ]
  },
  {
   "cell_type": "code",
   "execution_count": 11,
   "metadata": {},
   "outputs": [
    {
     "name": "stdout",
     "output_type": "stream",
     "text": [
      "Con seleccionar el indice y condicionar:\n",
      "   animal  edad  visitas prioridad\n",
      "a   gato   2.5        1        si\n",
      "b   gato   3.0        3        si\n",
      "f   gato   2.0        3        no\n",
      "j  perro   3.0        1        no\n",
      "\n",
      "Con between:\n",
      "   animal  edad  visitas prioridad\n",
      "a   gato   2.5        1        si\n",
      "b   gato   3.0        3        si\n",
      "f   gato   2.0        3        no\n",
      "j  perro   3.0        1        no\n"
     ]
    }
   ],
   "source": [
    "op1 = df[(df.edad >= 2) & (df.edad <= 4)] #Condicionar \n",
    "print('Con seleccionar el indice y condicionar:\\n',op1)\n",
    "\n",
    "op2 = df[df['edad'].between(2,4)] #Utilizar la funcion between para buscar el rango de valores\n",
    "print('\\nCon between:\\n',op2)"
   ]
  },
  {
   "cell_type": "markdown",
   "metadata": {},
   "source": [
    "**13.** Cambie la edad en la fila `f` a 1.5."
   ]
  },
  {
   "cell_type": "code",
   "execution_count": 12,
   "metadata": {},
   "outputs": [
    {
     "data": {
      "text/html": [
       "<div>\n",
       "<style scoped>\n",
       "    .dataframe tbody tr th:only-of-type {\n",
       "        vertical-align: middle;\n",
       "    }\n",
       "\n",
       "    .dataframe tbody tr th {\n",
       "        vertical-align: top;\n",
       "    }\n",
       "\n",
       "    .dataframe thead th {\n",
       "        text-align: right;\n",
       "    }\n",
       "</style>\n",
       "<table border=\"1\" class=\"dataframe\">\n",
       "  <thead>\n",
       "    <tr style=\"text-align: right;\">\n",
       "      <th></th>\n",
       "      <th>animal</th>\n",
       "      <th>edad</th>\n",
       "      <th>visitas</th>\n",
       "      <th>prioridad</th>\n",
       "    </tr>\n",
       "  </thead>\n",
       "  <tbody>\n",
       "    <tr>\n",
       "      <td>a</td>\n",
       "      <td>gato</td>\n",
       "      <td>2.5</td>\n",
       "      <td>1</td>\n",
       "      <td>si</td>\n",
       "    </tr>\n",
       "    <tr>\n",
       "      <td>b</td>\n",
       "      <td>gato</td>\n",
       "      <td>3.0</td>\n",
       "      <td>3</td>\n",
       "      <td>si</td>\n",
       "    </tr>\n",
       "    <tr>\n",
       "      <td>c</td>\n",
       "      <td>serpiente</td>\n",
       "      <td>0.5</td>\n",
       "      <td>2</td>\n",
       "      <td>no</td>\n",
       "    </tr>\n",
       "    <tr>\n",
       "      <td>d</td>\n",
       "      <td>perro</td>\n",
       "      <td>NaN</td>\n",
       "      <td>3</td>\n",
       "      <td>si</td>\n",
       "    </tr>\n",
       "    <tr>\n",
       "      <td>e</td>\n",
       "      <td>perro</td>\n",
       "      <td>5.0</td>\n",
       "      <td>2</td>\n",
       "      <td>no</td>\n",
       "    </tr>\n",
       "    <tr>\n",
       "      <td>f</td>\n",
       "      <td>gato</td>\n",
       "      <td>1.5</td>\n",
       "      <td>3</td>\n",
       "      <td>no</td>\n",
       "    </tr>\n",
       "    <tr>\n",
       "      <td>g</td>\n",
       "      <td>serpiente</td>\n",
       "      <td>4.5</td>\n",
       "      <td>1</td>\n",
       "      <td>no</td>\n",
       "    </tr>\n",
       "    <tr>\n",
       "      <td>h</td>\n",
       "      <td>gato</td>\n",
       "      <td>NaN</td>\n",
       "      <td>1</td>\n",
       "      <td>si</td>\n",
       "    </tr>\n",
       "    <tr>\n",
       "      <td>i</td>\n",
       "      <td>perro</td>\n",
       "      <td>7.0</td>\n",
       "      <td>2</td>\n",
       "      <td>no</td>\n",
       "    </tr>\n",
       "    <tr>\n",
       "      <td>j</td>\n",
       "      <td>perro</td>\n",
       "      <td>3.0</td>\n",
       "      <td>1</td>\n",
       "      <td>no</td>\n",
       "    </tr>\n",
       "  </tbody>\n",
       "</table>\n",
       "</div>"
      ],
      "text/plain": [
       "      animal  edad  visitas prioridad\n",
       "a       gato   2.5        1        si\n",
       "b       gato   3.0        3        si\n",
       "c  serpiente   0.5        2        no\n",
       "d      perro   NaN        3        si\n",
       "e      perro   5.0        2        no\n",
       "f       gato   1.5        3        no\n",
       "g  serpiente   4.5        1        no\n",
       "h       gato   NaN        1        si\n",
       "i      perro   7.0        2        no\n",
       "j      perro   3.0        1        no"
      ]
     },
     "execution_count": 12,
     "metadata": {},
     "output_type": "execute_result"
    }
   ],
   "source": [
    "df.loc['f','edad']= 1.5\n",
    "df"
   ]
  },
  {
   "cell_type": "markdown",
   "metadata": {},
   "source": [
    "**14.** Calcule la suma de todas las visitas en df (es decir, encuentre el número total de visitas)."
   ]
  },
  {
   "cell_type": "code",
   "execution_count": 13,
   "metadata": {},
   "outputs": [
    {
     "name": "stdout",
     "output_type": "stream",
     "text": [
      "19\n"
     ]
    }
   ],
   "source": [
    "sumaVis=df['visitas'].sum() #funcion sum \n",
    "print(sumaVis)"
   ]
  },
  {
   "cell_type": "markdown",
   "metadata": {},
   "source": [
    "**15.** Calcule la edad media de cada animal diferente en `df`."
   ]
  },
  {
   "cell_type": "code",
   "execution_count": 14,
   "metadata": {},
   "outputs": [
    {
     "data": {
      "text/plain": [
       "animal\n",
       "gato         2.333333\n",
       "perro        5.000000\n",
       "serpiente    2.500000\n",
       "Name: edad, dtype: float64"
      ]
     },
     "execution_count": 14,
     "metadata": {},
     "output_type": "execute_result"
    }
   ],
   "source": [
    "df.groupby('animal')['edad'].mean()"
   ]
  },
  {
   "cell_type": "markdown",
   "metadata": {},
   "source": [
    "**16.** Agrega una nueva fila 'k' a `df` con tu elección de valores para cada columna. Luego elimine esa fila para asi volver al DataFrame original  "
   ]
  },
  {
   "cell_type": "code",
   "execution_count": 15,
   "metadata": {},
   "outputs": [
    {
     "name": "stdout",
     "output_type": "stream",
     "text": [
      "      animal edad visitas prioridad\n",
      "a       gato  2.5       1        si\n",
      "b       gato    3       3        si\n",
      "c  serpiente  0.5       2        no\n",
      "d      perro  NaN       3        si\n",
      "e      perro    5       2        no\n",
      "f       gato  1.5       3        no\n",
      "g  serpiente  4.5       1        no\n",
      "h       gato  NaN       1        si\n",
      "i      perro    7       2        no\n",
      "j      perro    3       1        no\n",
      "k                                  \n"
     ]
    },
    {
     "data": {
      "text/html": [
       "<div>\n",
       "<style scoped>\n",
       "    .dataframe tbody tr th:only-of-type {\n",
       "        vertical-align: middle;\n",
       "    }\n",
       "\n",
       "    .dataframe tbody tr th {\n",
       "        vertical-align: top;\n",
       "    }\n",
       "\n",
       "    .dataframe thead th {\n",
       "        text-align: right;\n",
       "    }\n",
       "</style>\n",
       "<table border=\"1\" class=\"dataframe\">\n",
       "  <thead>\n",
       "    <tr style=\"text-align: right;\">\n",
       "      <th></th>\n",
       "      <th>animal</th>\n",
       "      <th>edad</th>\n",
       "      <th>visitas</th>\n",
       "      <th>prioridad</th>\n",
       "    </tr>\n",
       "  </thead>\n",
       "  <tbody>\n",
       "    <tr>\n",
       "      <td>a</td>\n",
       "      <td>gato</td>\n",
       "      <td>2.5</td>\n",
       "      <td>1</td>\n",
       "      <td>si</td>\n",
       "    </tr>\n",
       "    <tr>\n",
       "      <td>b</td>\n",
       "      <td>gato</td>\n",
       "      <td>3</td>\n",
       "      <td>3</td>\n",
       "      <td>si</td>\n",
       "    </tr>\n",
       "    <tr>\n",
       "      <td>c</td>\n",
       "      <td>serpiente</td>\n",
       "      <td>0.5</td>\n",
       "      <td>2</td>\n",
       "      <td>no</td>\n",
       "    </tr>\n",
       "    <tr>\n",
       "      <td>d</td>\n",
       "      <td>perro</td>\n",
       "      <td>NaN</td>\n",
       "      <td>3</td>\n",
       "      <td>si</td>\n",
       "    </tr>\n",
       "    <tr>\n",
       "      <td>e</td>\n",
       "      <td>perro</td>\n",
       "      <td>5</td>\n",
       "      <td>2</td>\n",
       "      <td>no</td>\n",
       "    </tr>\n",
       "    <tr>\n",
       "      <td>f</td>\n",
       "      <td>gato</td>\n",
       "      <td>1.5</td>\n",
       "      <td>3</td>\n",
       "      <td>no</td>\n",
       "    </tr>\n",
       "    <tr>\n",
       "      <td>g</td>\n",
       "      <td>serpiente</td>\n",
       "      <td>4.5</td>\n",
       "      <td>1</td>\n",
       "      <td>no</td>\n",
       "    </tr>\n",
       "    <tr>\n",
       "      <td>h</td>\n",
       "      <td>gato</td>\n",
       "      <td>NaN</td>\n",
       "      <td>1</td>\n",
       "      <td>si</td>\n",
       "    </tr>\n",
       "    <tr>\n",
       "      <td>i</td>\n",
       "      <td>perro</td>\n",
       "      <td>7</td>\n",
       "      <td>2</td>\n",
       "      <td>no</td>\n",
       "    </tr>\n",
       "    <tr>\n",
       "      <td>j</td>\n",
       "      <td>perro</td>\n",
       "      <td>3</td>\n",
       "      <td>1</td>\n",
       "      <td>no</td>\n",
       "    </tr>\n",
       "  </tbody>\n",
       "</table>\n",
       "</div>"
      ],
      "text/plain": [
       "      animal edad visitas prioridad\n",
       "a       gato  2.5       1        si\n",
       "b       gato    3       3        si\n",
       "c  serpiente  0.5       2        no\n",
       "d      perro  NaN       3        si\n",
       "e      perro    5       2        no\n",
       "f       gato  1.5       3        no\n",
       "g  serpiente  4.5       1        no\n",
       "h       gato  NaN       1        si\n",
       "i      perro    7       2        no\n",
       "j      perro    3       1        no"
      ]
     },
     "execution_count": 15,
     "metadata": {},
     "output_type": "execute_result"
    }
   ],
   "source": [
    "df.loc['k']=['','','',''] #Con loc tomará la nueva lista como una nueva fila y la añadirá Dataframe\n",
    "print(df)\n",
    "df.drop(['k'],axis=0,inplace=True) #drop se eliminara esa fila creada\n",
    "df"
   ]
  },
  {
   "cell_type": "markdown",
   "metadata": {},
   "source": [
    "**17.** Cuente el número de cada tipo de animal en `df`."
   ]
  },
  {
   "cell_type": "code",
   "execution_count": 16,
   "metadata": {},
   "outputs": [
    {
     "data": {
      "text/plain": [
       "perro        4\n",
       "gato         4\n",
       "serpiente    2\n",
       "Name: animal, dtype: int64"
      ]
     },
     "execution_count": 16,
     "metadata": {},
     "output_type": "execute_result"
    }
   ],
   "source": [
    "df['animal'].value_counts() #Devuelve un objeto que contiene recuentos de valores únicos"
   ]
  },
  {
   "cell_type": "markdown",
   "metadata": {},
   "source": [
    "**18.** Ordene `df` primero por los valores en la 'edad' en orden descendente, luego por el valor en la columna 'visitas' en orden ascendente (por lo que la fila `i` debe ser la primera y la fila `d` debe ser la última).  "
   ]
  },
  {
   "cell_type": "code",
   "execution_count": 17,
   "metadata": {},
   "outputs": [
    {
     "name": "stdout",
     "output_type": "stream",
     "text": [
      "En orden descendente de la edad:\n",
      "       animal edad visitas prioridad\n",
      "i      perro    7       2        no\n",
      "e      perro    5       2        no\n",
      "g  serpiente  4.5       1        no\n",
      "b       gato    3       3        si\n",
      "j      perro    3       1        no\n",
      "a       gato  2.5       1        si\n",
      "f       gato  1.5       3        no\n",
      "c  serpiente  0.5       2        no\n",
      "d      perro  NaN       3        si\n",
      "h       gato  NaN       1        si\n",
      "\n",
      "En orden ascendente de la visitas:\n",
      "       animal edad visitas prioridad\n",
      "a       gato  2.5       1        si\n",
      "g  serpiente  4.5       1        no\n",
      "h       gato  NaN       1        si\n",
      "j      perro    3       1        no\n",
      "c  serpiente  0.5       2        no\n",
      "e      perro    5       2        no\n",
      "i      perro    7       2        no\n",
      "b       gato    3       3        si\n",
      "d      perro  NaN       3        si\n",
      "f       gato  1.5       3        no\n"
     ]
    }
   ],
   "source": [
    "des_edad=df.sort_values(by=['edad'],ascending=False ,inplace=False)\n",
    "print('En orden descendente de la edad:\\n',des_edad)\n",
    "asc_vis=df.sort_values(by=['visitas'],ascending=True ,inplace=False)\n",
    "print('\\nEn orden ascendente de la visitas:\\n',asc_vis)"
   ]
  },
  {
   "cell_type": "markdown",
   "metadata": {},
   "source": [
    "**19.** La columna 'prioridad' contiene los valores 'sí' y 'no'. Reemplace esta columna con una columna de valores booleanos: 'sí' debe ser `True` y 'no' debe ser `False`.   "
   ]
  },
  {
   "cell_type": "code",
   "execution_count": 18,
   "metadata": {},
   "outputs": [
    {
     "data": {
      "text/html": [
       "<div>\n",
       "<style scoped>\n",
       "    .dataframe tbody tr th:only-of-type {\n",
       "        vertical-align: middle;\n",
       "    }\n",
       "\n",
       "    .dataframe tbody tr th {\n",
       "        vertical-align: top;\n",
       "    }\n",
       "\n",
       "    .dataframe thead th {\n",
       "        text-align: right;\n",
       "    }\n",
       "</style>\n",
       "<table border=\"1\" class=\"dataframe\">\n",
       "  <thead>\n",
       "    <tr style=\"text-align: right;\">\n",
       "      <th></th>\n",
       "      <th>animal</th>\n",
       "      <th>edad</th>\n",
       "      <th>visitas</th>\n",
       "      <th>prioridad</th>\n",
       "    </tr>\n",
       "  </thead>\n",
       "  <tbody>\n",
       "    <tr>\n",
       "      <td>a</td>\n",
       "      <td>gato</td>\n",
       "      <td>2.5</td>\n",
       "      <td>1</td>\n",
       "      <td>True</td>\n",
       "    </tr>\n",
       "    <tr>\n",
       "      <td>b</td>\n",
       "      <td>gato</td>\n",
       "      <td>3</td>\n",
       "      <td>3</td>\n",
       "      <td>True</td>\n",
       "    </tr>\n",
       "    <tr>\n",
       "      <td>c</td>\n",
       "      <td>serpiente</td>\n",
       "      <td>0.5</td>\n",
       "      <td>2</td>\n",
       "      <td>False</td>\n",
       "    </tr>\n",
       "    <tr>\n",
       "      <td>d</td>\n",
       "      <td>perro</td>\n",
       "      <td>NaN</td>\n",
       "      <td>3</td>\n",
       "      <td>True</td>\n",
       "    </tr>\n",
       "    <tr>\n",
       "      <td>e</td>\n",
       "      <td>perro</td>\n",
       "      <td>5</td>\n",
       "      <td>2</td>\n",
       "      <td>False</td>\n",
       "    </tr>\n",
       "    <tr>\n",
       "      <td>f</td>\n",
       "      <td>gato</td>\n",
       "      <td>1.5</td>\n",
       "      <td>3</td>\n",
       "      <td>False</td>\n",
       "    </tr>\n",
       "    <tr>\n",
       "      <td>g</td>\n",
       "      <td>serpiente</td>\n",
       "      <td>4.5</td>\n",
       "      <td>1</td>\n",
       "      <td>False</td>\n",
       "    </tr>\n",
       "    <tr>\n",
       "      <td>h</td>\n",
       "      <td>gato</td>\n",
       "      <td>NaN</td>\n",
       "      <td>1</td>\n",
       "      <td>True</td>\n",
       "    </tr>\n",
       "    <tr>\n",
       "      <td>i</td>\n",
       "      <td>perro</td>\n",
       "      <td>7</td>\n",
       "      <td>2</td>\n",
       "      <td>False</td>\n",
       "    </tr>\n",
       "    <tr>\n",
       "      <td>j</td>\n",
       "      <td>perro</td>\n",
       "      <td>3</td>\n",
       "      <td>1</td>\n",
       "      <td>False</td>\n",
       "    </tr>\n",
       "  </tbody>\n",
       "</table>\n",
       "</div>"
      ],
      "text/plain": [
       "      animal edad visitas prioridad\n",
       "a       gato  2.5       1      True\n",
       "b       gato    3       3      True\n",
       "c  serpiente  0.5       2     False\n",
       "d      perro  NaN       3      True\n",
       "e      perro    5       2     False\n",
       "f       gato  1.5       3     False\n",
       "g  serpiente  4.5       1     False\n",
       "h       gato  NaN       1      True\n",
       "i      perro    7       2     False\n",
       "j      perro    3       1     False"
      ]
     },
     "execution_count": 18,
     "metadata": {},
     "output_type": "execute_result"
    }
   ],
   "source": [
    "pri_bool= df.replace({'prioridad': {'si': 'True', 'no': 'False'}})\n",
    "pri_bool"
   ]
  },
  {
   "cell_type": "markdown",
   "metadata": {},
   "source": [
    "**20.** En la columna 'animal', cambie las entradas de 'serpiente' a 'python'.."
   ]
  },
  {
   "cell_type": "code",
   "execution_count": 19,
   "metadata": {},
   "outputs": [
    {
     "data": {
      "text/html": [
       "<div>\n",
       "<style scoped>\n",
       "    .dataframe tbody tr th:only-of-type {\n",
       "        vertical-align: middle;\n",
       "    }\n",
       "\n",
       "    .dataframe tbody tr th {\n",
       "        vertical-align: top;\n",
       "    }\n",
       "\n",
       "    .dataframe thead th {\n",
       "        text-align: right;\n",
       "    }\n",
       "</style>\n",
       "<table border=\"1\" class=\"dataframe\">\n",
       "  <thead>\n",
       "    <tr style=\"text-align: right;\">\n",
       "      <th></th>\n",
       "      <th>animal</th>\n",
       "      <th>edad</th>\n",
       "      <th>visitas</th>\n",
       "      <th>prioridad</th>\n",
       "    </tr>\n",
       "  </thead>\n",
       "  <tbody>\n",
       "    <tr>\n",
       "      <td>a</td>\n",
       "      <td>gato</td>\n",
       "      <td>2.5</td>\n",
       "      <td>1</td>\n",
       "      <td>si</td>\n",
       "    </tr>\n",
       "    <tr>\n",
       "      <td>b</td>\n",
       "      <td>gato</td>\n",
       "      <td>3</td>\n",
       "      <td>3</td>\n",
       "      <td>si</td>\n",
       "    </tr>\n",
       "    <tr>\n",
       "      <td>c</td>\n",
       "      <td>python</td>\n",
       "      <td>0.5</td>\n",
       "      <td>2</td>\n",
       "      <td>no</td>\n",
       "    </tr>\n",
       "    <tr>\n",
       "      <td>d</td>\n",
       "      <td>perro</td>\n",
       "      <td>NaN</td>\n",
       "      <td>3</td>\n",
       "      <td>si</td>\n",
       "    </tr>\n",
       "    <tr>\n",
       "      <td>e</td>\n",
       "      <td>perro</td>\n",
       "      <td>5</td>\n",
       "      <td>2</td>\n",
       "      <td>no</td>\n",
       "    </tr>\n",
       "    <tr>\n",
       "      <td>f</td>\n",
       "      <td>gato</td>\n",
       "      <td>1.5</td>\n",
       "      <td>3</td>\n",
       "      <td>no</td>\n",
       "    </tr>\n",
       "    <tr>\n",
       "      <td>g</td>\n",
       "      <td>python</td>\n",
       "      <td>4.5</td>\n",
       "      <td>1</td>\n",
       "      <td>no</td>\n",
       "    </tr>\n",
       "    <tr>\n",
       "      <td>h</td>\n",
       "      <td>gato</td>\n",
       "      <td>NaN</td>\n",
       "      <td>1</td>\n",
       "      <td>si</td>\n",
       "    </tr>\n",
       "    <tr>\n",
       "      <td>i</td>\n",
       "      <td>perro</td>\n",
       "      <td>7</td>\n",
       "      <td>2</td>\n",
       "      <td>no</td>\n",
       "    </tr>\n",
       "    <tr>\n",
       "      <td>j</td>\n",
       "      <td>perro</td>\n",
       "      <td>3</td>\n",
       "      <td>1</td>\n",
       "      <td>no</td>\n",
       "    </tr>\n",
       "  </tbody>\n",
       "</table>\n",
       "</div>"
      ],
      "text/plain": [
       "   animal edad visitas prioridad\n",
       "a    gato  2.5       1        si\n",
       "b    gato    3       3        si\n",
       "c  python  0.5       2        no\n",
       "d   perro  NaN       3        si\n",
       "e   perro    5       2        no\n",
       "f    gato  1.5       3        no\n",
       "g  python  4.5       1        no\n",
       "h    gato  NaN       1        si\n",
       "i   perro    7       2        no\n",
       "j   perro    3       1        no"
      ]
     },
     "execution_count": 19,
     "metadata": {},
     "output_type": "execute_result"
    }
   ],
   "source": [
    "ser_py = df.replace({'animal': {'serpiente': 'python'}})\n",
    "ser_py"
   ]
  },
  {
   "cell_type": "markdown",
   "metadata": {},
   "source": [
    "**21.** Para cada tipo de animal y cada número de visitas, encuentre la edad media. En otras palabras, cada fila es un animal, cada columna es un número de visitas y los valores son las edades medias."
   ]
  },
  {
   "cell_type": "code",
   "execution_count": 22,
   "metadata": {},
   "outputs": [
    {
     "data": {
      "text/html": [
       "<div>\n",
       "<style scoped>\n",
       "    .dataframe tbody tr th:only-of-type {\n",
       "        vertical-align: middle;\n",
       "    }\n",
       "\n",
       "    .dataframe tbody tr th {\n",
       "        vertical-align: top;\n",
       "    }\n",
       "\n",
       "    .dataframe thead th {\n",
       "        text-align: right;\n",
       "    }\n",
       "</style>\n",
       "<table border=\"1\" class=\"dataframe\">\n",
       "  <thead>\n",
       "    <tr style=\"text-align: right;\">\n",
       "      <th>visitas</th>\n",
       "      <th>1</th>\n",
       "      <th>2</th>\n",
       "      <th>3</th>\n",
       "    </tr>\n",
       "    <tr>\n",
       "      <th>animal</th>\n",
       "      <th></th>\n",
       "      <th></th>\n",
       "      <th></th>\n",
       "    </tr>\n",
       "  </thead>\n",
       "  <tbody>\n",
       "    <tr>\n",
       "      <td>gato</td>\n",
       "      <td>2.5</td>\n",
       "      <td>NaN</td>\n",
       "      <td>2.5</td>\n",
       "    </tr>\n",
       "    <tr>\n",
       "      <td>perro</td>\n",
       "      <td>3.0</td>\n",
       "      <td>6.0</td>\n",
       "      <td>NaN</td>\n",
       "    </tr>\n",
       "    <tr>\n",
       "      <td>serpiente</td>\n",
       "      <td>4.5</td>\n",
       "      <td>0.5</td>\n",
       "      <td>NaN</td>\n",
       "    </tr>\n",
       "  </tbody>\n",
       "</table>\n",
       "</div>"
      ],
      "text/plain": [
       "visitas      1    2    3\n",
       "animal                  \n",
       "gato       2.5  NaN  2.5\n",
       "perro      3.0  6.0  NaN\n",
       "serpiente  4.5  0.5  NaN"
      ]
     },
     "execution_count": 22,
     "metadata": {},
     "output_type": "execute_result"
    }
   ],
   "source": [
    "#Nota: hay que volver ha ejecutar el punto 4 luego este para que se ejecute correctamente \n",
    "table=pd.pivot_table(df,values='edad',index='animal',columns='visitas',aggfunc=np.mean)\n",
    "table"
   ]
  },
  {
   "cell_type": "markdown",
   "metadata": {},
   "source": [
    "###  es posible que deba combinar dos o más métodos para obtener la respuesta correcta\n",
    "\n",
    "A continuación se muestran algunas formas en las que podría necesitar filtrar los datos, pero para las cuales no existe un método único \"listo para usar\"."
   ]
  },
  {
   "cell_type": "markdown",
   "metadata": {},
   "source": [
    "**22.** Se tiene un DataFrame `df` con una columna 'A' de enteros.  \n",
    "```python\n",
    "df = pd.DataFrame({'A': [1, 2, 2, 3, 4, 5, 5, 5, 6, 7, 7]})\n",
    "```\n",
    "\n",
    "¿Cómo se filtran las filas que contienen el mismo número entero que la fila inmediatamente superior?\n",
    "\n",
    "Debería quedarse con una columna que contiene los siguientes valores:\n",
    "\n",
    "```python\n",
    "1, 2, 3, 4, 5, 6, 7\n",
    "```"
   ]
  },
  {
   "cell_type": "code",
   "execution_count": 23,
   "metadata": {},
   "outputs": [
    {
     "name": "stdout",
     "output_type": "stream",
     "text": [
      "las filas que contienen el mismo número entero:\n",
      "    A\n",
      "0  1\n",
      "1  2\n",
      "3  3\n",
      "4  4\n",
      "5  5\n",
      "8  6\n",
      "9  7\n"
     ]
    }
   ],
   "source": [
    "df = pd.DataFrame({'A': [1, 2, 2, 3, 4, 5, 5, 5, 6, 7, 7]})\n",
    "filtro = df.drop_duplicates(subset='A') #Devuelve DataFrame con filas duplicadas eliminadas\n",
    "print('las filas que contienen el mismo número entero:\\n',filtro)"
   ]
  },
  {
   "cell_type": "markdown",
   "metadata": {},
   "source": [
    "**23.** Dado un DataFrame de valores numéricos:\n",
    "```python\n",
    "df = pd.DataFrame(np.random.random(size=(5, 3))) # tabla de valores reales de 5x3  \n",
    "```\n",
    "\n",
    "¿Cómo se resta la media de la fila de cada elemento de la fila?"
   ]
  },
  {
   "cell_type": "code",
   "execution_count": 119,
   "metadata": {},
   "outputs": [
    {
     "name": "stdout",
     "output_type": "stream",
     "text": [
      "          0         1         2\n",
      "0  0.280535  0.582848  0.545825\n",
      "1  0.669213  0.491155  0.150029\n",
      "2  0.986795  0.043807  0.151124\n",
      "3  0.536987  0.473204  0.537081\n",
      "4  0.520282  0.310168  0.459134\n",
      "\n",
      "Resta la media de la fila de cada elemento de la fila:\n",
      "           0         1         2\n",
      "0 -0.189201  0.113112  0.076089\n",
      "1  0.232414  0.054356 -0.286770\n",
      "2  0.592886 -0.350102 -0.242785\n",
      "3  0.021230 -0.042553  0.021324\n",
      "4  0.090421 -0.119693  0.029272\n"
     ]
    }
   ],
   "source": [
    "df = pd.DataFrame(np.random.random(size=(5, 3))) # tabla de valores reales de 5x3\n",
    "print(df)\n",
    "resta = df.sub(df.mean(axis=1), axis=0) #Obtenga la resta de dataframe y otros elementos por elemento (operador binario sub )\n",
    "print('\\nResta la media de la fila de cada elemento de la fila:\\n',resta)"
   ]
  },
  {
   "cell_type": "markdown",
   "metadata": {},
   "source": [
    "**24.** Suponga que tiene DataFrame con 10 columnas de números reales, por ejemplo:\n",
    "\n",
    "```python\n",
    "df = pd.DataFrame(np.random.random(size=(5, 10)), columns=list('abcdefghij'))\n",
    "```\n",
    "\n",
    "¿Qué columna de números tiene la suma más pequeña? Devuelva la etiqueta de esa columna."
   ]
  },
  {
   "cell_type": "code",
   "execution_count": 49,
   "metadata": {},
   "outputs": [
    {
     "name": "stdout",
     "output_type": "stream",
     "text": [
      "          a         b         c         d         e         f         g  \\\n",
      "0  0.403516  0.624344  0.286147  0.156249  0.633657  0.701758  0.504949   \n",
      "1  0.027447  0.137463  0.313384  0.715810  0.529746  0.192597  0.320083   \n",
      "2  0.592970  0.483687  0.427335  0.997495  0.125796  0.564519  0.671769   \n",
      "3  0.874625  0.821066  0.008089  0.692268  0.124525  0.863164  0.311327   \n",
      "4  0.993125  0.856141  0.316556  0.490575  0.367677  0.033681  0.938292   \n",
      "\n",
      "          h         i         j  \n",
      "0  0.094648  0.311737  0.126238  \n",
      "1  0.059685  0.967179  0.564433  \n",
      "2  0.060955  0.049297  0.196331  \n",
      "3  0.404505  0.472920  0.899561  \n",
      "4  0.850611  0.683914  0.509319  \n",
      "\n",
      "Nuevo dataframe:\n",
      "           a         b         c         d         e         f         g  \\\n",
      "0  0.403516  0.624344  0.286147  0.156249  0.633657  0.701758  0.504949   \n",
      "1  0.027447  0.137463  0.313384  0.715810  0.529746  0.192597  0.320083   \n",
      "2  0.592970  0.483687  0.427335  0.997495  0.125796  0.564519  0.671769   \n",
      "3  0.874625  0.821066  0.008089  0.692268  0.124525  0.863164  0.311327   \n",
      "4  0.993125  0.856141  0.316556  0.490575  0.367677  0.033681  0.938292   \n",
      "5  2.891683  2.922700  1.351512  3.052396  1.781403  2.355718  2.746419   \n",
      "\n",
      "          h         i         j  \n",
      "0  0.094648  0.311737  0.126238  \n",
      "1  0.059685  0.967179  0.564433  \n",
      "2  0.060955  0.049297  0.196331  \n",
      "3  0.404505  0.472920  0.899561  \n",
      "4  0.850611  0.683914  0.509319  \n",
      "5  1.470403  2.485047  2.295880  \n"
     ]
    },
    {
     "data": {
      "text/html": [
       "<div>\n",
       "<style scoped>\n",
       "    .dataframe tbody tr th:only-of-type {\n",
       "        vertical-align: middle;\n",
       "    }\n",
       "\n",
       "    .dataframe tbody tr th {\n",
       "        vertical-align: top;\n",
       "    }\n",
       "\n",
       "    .dataframe thead th {\n",
       "        text-align: right;\n",
       "    }\n",
       "</style>\n",
       "<table border=\"1\" class=\"dataframe\">\n",
       "  <thead>\n",
       "    <tr style=\"text-align: right;\">\n",
       "      <th></th>\n",
       "      <th>a</th>\n",
       "      <th>b</th>\n",
       "      <th>c</th>\n",
       "      <th>d</th>\n",
       "      <th>e</th>\n",
       "      <th>f</th>\n",
       "      <th>g</th>\n",
       "      <th>h</th>\n",
       "      <th>i</th>\n",
       "      <th>j</th>\n",
       "    </tr>\n",
       "  </thead>\n",
       "  <tbody>\n",
       "    <tr>\n",
       "      <td>0</td>\n",
       "      <td>NaN</td>\n",
       "      <td>NaN</td>\n",
       "      <td>NaN</td>\n",
       "      <td>NaN</td>\n",
       "      <td>NaN</td>\n",
       "      <td>NaN</td>\n",
       "      <td>NaN</td>\n",
       "      <td>NaN</td>\n",
       "      <td>NaN</td>\n",
       "      <td>NaN</td>\n",
       "    </tr>\n",
       "    <tr>\n",
       "      <td>1</td>\n",
       "      <td>NaN</td>\n",
       "      <td>NaN</td>\n",
       "      <td>NaN</td>\n",
       "      <td>NaN</td>\n",
       "      <td>NaN</td>\n",
       "      <td>NaN</td>\n",
       "      <td>NaN</td>\n",
       "      <td>NaN</td>\n",
       "      <td>NaN</td>\n",
       "      <td>NaN</td>\n",
       "    </tr>\n",
       "    <tr>\n",
       "      <td>2</td>\n",
       "      <td>NaN</td>\n",
       "      <td>NaN</td>\n",
       "      <td>NaN</td>\n",
       "      <td>NaN</td>\n",
       "      <td>NaN</td>\n",
       "      <td>NaN</td>\n",
       "      <td>NaN</td>\n",
       "      <td>NaN</td>\n",
       "      <td>NaN</td>\n",
       "      <td>NaN</td>\n",
       "    </tr>\n",
       "    <tr>\n",
       "      <td>3</td>\n",
       "      <td>NaN</td>\n",
       "      <td>NaN</td>\n",
       "      <td>NaN</td>\n",
       "      <td>NaN</td>\n",
       "      <td>NaN</td>\n",
       "      <td>NaN</td>\n",
       "      <td>NaN</td>\n",
       "      <td>NaN</td>\n",
       "      <td>NaN</td>\n",
       "      <td>NaN</td>\n",
       "    </tr>\n",
       "    <tr>\n",
       "      <td>4</td>\n",
       "      <td>NaN</td>\n",
       "      <td>NaN</td>\n",
       "      <td>NaN</td>\n",
       "      <td>NaN</td>\n",
       "      <td>NaN</td>\n",
       "      <td>NaN</td>\n",
       "      <td>NaN</td>\n",
       "      <td>NaN</td>\n",
       "      <td>NaN</td>\n",
       "      <td>NaN</td>\n",
       "    </tr>\n",
       "    <tr>\n",
       "      <td>5</td>\n",
       "      <td>NaN</td>\n",
       "      <td>NaN</td>\n",
       "      <td>1.351512</td>\n",
       "      <td>NaN</td>\n",
       "      <td>NaN</td>\n",
       "      <td>NaN</td>\n",
       "      <td>NaN</td>\n",
       "      <td>NaN</td>\n",
       "      <td>NaN</td>\n",
       "      <td>NaN</td>\n",
       "    </tr>\n",
       "  </tbody>\n",
       "</table>\n",
       "</div>"
      ],
      "text/plain": [
       "    a   b         c   d   e   f   g   h   i   j\n",
       "0 NaN NaN       NaN NaN NaN NaN NaN NaN NaN NaN\n",
       "1 NaN NaN       NaN NaN NaN NaN NaN NaN NaN NaN\n",
       "2 NaN NaN       NaN NaN NaN NaN NaN NaN NaN NaN\n",
       "3 NaN NaN       NaN NaN NaN NaN NaN NaN NaN NaN\n",
       "4 NaN NaN       NaN NaN NaN NaN NaN NaN NaN NaN\n",
       "5 NaN NaN  1.351512 NaN NaN NaN NaN NaN NaN NaN"
      ]
     },
     "execution_count": 49,
     "metadata": {},
     "output_type": "execute_result"
    }
   ],
   "source": [
    "df = pd.DataFrame(np.random.random(size=(5, 10)), columns=list('abcdefghij'))\n",
    "print(df)\n",
    "\n",
    "#Vamos agregar otra fila con la sumatoria de cada columna\n",
    "df.loc[5] =[df['a'].sum(),df['b'].sum(),df['c'].sum(),df['d'].sum(),df['e'].sum(),df['f'].sum(),df['g'].sum(),df['h'].sum(),df['i'].sum(),df['j'].sum()]\n",
    "print('\\nNuevo dataframe:\\n',df)\n",
    "mindf = df.iloc[5,:].min() #Buscamaos el valor minimo de esa fila que es la suma \n",
    "df[:][df == mindf]\n",
    "\n",
    "\n",
    "\n"
   ]
  },
  {
   "cell_type": "markdown",
   "metadata": {},
   "source": [
    "**25.** ¿Cómo se cuenta cuántas filas únicas tiene un DataFrame (es decir, ignora todas las filas que están duplicadas)? Como entrada, use un DataFrame de ceros y unos con 10 filas y 3 columnas.\n",
    "\n",
    "```python\n",
    "df = pd.DataFrame(np.random.randint(0, 2, size=(10, 3)))\n",
    "```"
   ]
  },
  {
   "cell_type": "code",
   "execution_count": 50,
   "metadata": {},
   "outputs": [
    {
     "name": "stdout",
     "output_type": "stream",
     "text": [
      "   0  1  2\n",
      "0  0  0  1\n",
      "1  1  1  0\n",
      "2  0  1  0\n",
      "3  1  1  1\n",
      "4  0  0  1\n",
      "5  0  0  0\n",
      "6  0  1  1\n",
      "7  0  0  0\n",
      "8  0  0  0\n",
      "9  1  0  0\n"
     ]
    },
    {
     "data": {
      "text/html": [
       "<div>\n",
       "<style scoped>\n",
       "    .dataframe tbody tr th:only-of-type {\n",
       "        vertical-align: middle;\n",
       "    }\n",
       "\n",
       "    .dataframe tbody tr th {\n",
       "        vertical-align: top;\n",
       "    }\n",
       "\n",
       "    .dataframe thead th {\n",
       "        text-align: right;\n",
       "    }\n",
       "</style>\n",
       "<table border=\"1\" class=\"dataframe\">\n",
       "  <thead>\n",
       "    <tr style=\"text-align: right;\">\n",
       "      <th></th>\n",
       "      <th>0</th>\n",
       "      <th>1</th>\n",
       "      <th>2</th>\n",
       "    </tr>\n",
       "  </thead>\n",
       "  <tbody>\n",
       "    <tr>\n",
       "      <td>0</td>\n",
       "      <td>0</td>\n",
       "      <td>0</td>\n",
       "      <td>1</td>\n",
       "    </tr>\n",
       "    <tr>\n",
       "      <td>1</td>\n",
       "      <td>1</td>\n",
       "      <td>1</td>\n",
       "      <td>0</td>\n",
       "    </tr>\n",
       "    <tr>\n",
       "      <td>2</td>\n",
       "      <td>0</td>\n",
       "      <td>1</td>\n",
       "      <td>0</td>\n",
       "    </tr>\n",
       "    <tr>\n",
       "      <td>3</td>\n",
       "      <td>1</td>\n",
       "      <td>1</td>\n",
       "      <td>1</td>\n",
       "    </tr>\n",
       "    <tr>\n",
       "      <td>5</td>\n",
       "      <td>0</td>\n",
       "      <td>0</td>\n",
       "      <td>0</td>\n",
       "    </tr>\n",
       "    <tr>\n",
       "      <td>6</td>\n",
       "      <td>0</td>\n",
       "      <td>1</td>\n",
       "      <td>1</td>\n",
       "    </tr>\n",
       "    <tr>\n",
       "      <td>9</td>\n",
       "      <td>1</td>\n",
       "      <td>0</td>\n",
       "      <td>0</td>\n",
       "    </tr>\n",
       "  </tbody>\n",
       "</table>\n",
       "</div>"
      ],
      "text/plain": [
       "   0  1  2\n",
       "0  0  0  1\n",
       "1  1  1  0\n",
       "2  0  1  0\n",
       "3  1  1  1\n",
       "5  0  0  0\n",
       "6  0  1  1\n",
       "9  1  0  0"
      ]
     },
     "execution_count": 50,
     "metadata": {},
     "output_type": "execute_result"
    }
   ],
   "source": [
    "df = pd.DataFrame(np.random.randint(0, 2, size=(10, 3)))\n",
    "print(df)\n",
    "df.iloc[[0, 1, 2, 3, 4, 5, 6, 7, 8, 9]].drop_duplicates()"
   ]
  },
  {
   "cell_type": "markdown",
   "metadata": {},
   "source": [
    "**26.** En la celda a continuación, se tiene un DataFrame `df` que consta de 10 columnas de números reales. De esos exactamente   5 entradas en cada fila son valores de NaN. \n",
    "\n",
    "Para cada fila del DataFrame, busque la columna que contiene el tercer valor de NaN.\n",
    "\n",
    "Debe devolver una columna de etiquetas de la forma: `e, c, d, h, d`"
   ]
  },
  {
   "cell_type": "code",
   "execution_count": 51,
   "metadata": {},
   "outputs": [
    {
     "name": "stdout",
     "output_type": "stream",
     "text": [
      "      a   b     c     d     e     f     g     h     i     j\n",
      "0  0.04 NaN   NaN  0.25   NaN  0.43  0.71  0.51   NaN   NaN\n",
      "1   NaN NaN   NaN  0.04  0.76   NaN   NaN  0.67  0.76  0.16\n",
      "2   NaN NaN  0.50   NaN  0.31  0.40   NaN   NaN  0.24  0.01\n",
      "3  0.49 NaN   NaN  0.62  0.73  0.26  0.85   NaN   NaN   NaN\n",
      "4   NaN NaN  0.41   NaN  0.05   NaN  0.61   NaN  0.48  0.68\n"
     ]
    },
    {
     "data": {
      "text/plain": [
       "0    e\n",
       "1    c\n",
       "2    d\n",
       "3    h\n",
       "4    d\n",
       "dtype: object"
      ]
     },
     "execution_count": 51,
     "metadata": {},
     "output_type": "execute_result"
    }
   ],
   "source": [
    "nan = np.nan\n",
    "\n",
    "data = [[0.04,  nan,  nan, 0.25,  nan, 0.43, 0.71, 0.51,  nan,  nan],\n",
    "        [ nan,  nan,  nan, 0.04, 0.76,  nan,  nan, 0.67, 0.76, 0.16],\n",
    "        [ nan,  nan, 0.5 ,  nan, 0.31, 0.4 ,  nan,  nan, 0.24, 0.01],\n",
    "        [0.49,  nan,  nan, 0.62, 0.73, 0.26, 0.85,  nan,  nan,  nan],\n",
    "        [ nan,  nan, 0.41,  nan, 0.05,  nan, 0.61,  nan, 0.48, 0.68]]\n",
    "\n",
    "columnas = list('abcdefghij')\n",
    "\n",
    "df = pd.DataFrame(data, columns=columnas)\n",
    "print(df)\n",
    "\n",
    "# e c d h d\n",
    "(df.isnull().cumsum(axis=1)==3).idxmax(axis=1) "
   ]
  },
  {
   "cell_type": "markdown",
   "metadata": {},
   "source": [
    "**27.** Implemente una media móvil el grupos con tamaño de ventana 3, que ignora el valor de NaN. Por ejemplo, considere el siguiente DataFrame::\n",
    "\n",
    "```python\n",
    ">>> df = pd.DataFrame({'group': list('aabbabbbabab'),\n",
    "                       'value': [1, 2, 3, np.nan, 2, 3, np.nan, 1, 7, 3, np.nan, 8]})\n",
    ">>> df\n",
    "   group  value\n",
    "0      a    1.0\n",
    "1      a    2.0\n",
    "2      b    3.0\n",
    "3      b    NaN\n",
    "4      a    2.0\n",
    "5      b    3.0\n",
    "6      b    NaN\n",
    "7      b    1.0\n",
    "8      a    7.0\n",
    "9      b    3.0\n",
    "10     a    NaN\n",
    "11     b    8.0\n",
    "```\n",
    "se debe calcular el filtro y obtener estos valores\n",
    "\n",
    "```\n",
    "0     1.000000\n",
    "1     1.500000\n",
    "2     3.000000\n",
    "3     3.000000\n",
    "4     1.666667\n",
    "5     3.000000\n",
    "6     3.000000\n",
    "7     2.000000\n",
    "8     3.666667\n",
    "9     2.000000\n",
    "10    4.500000\n",
    "11    4.000000\n",
    "```\n",
    "P.ej. la primera ventana de tamaño tres para el grupo 'b' tiene valores 3.0, NaN y 3.0 y ocurre en el índice de fila 5. En lugar de ser NaN, el valor en la nueva columna en este índice de fila debe ser 3.0 (solo los dos valores que no son NaN se utilizan para calcular la media (3 + 3) / 2)"
   ]
  },
  {
   "cell_type": "code",
   "execution_count": 53,
   "metadata": {},
   "outputs": [
    {
     "data": {
      "text/plain": [
       "0     1.000000\n",
       "1     1.500000\n",
       "2     3.000000\n",
       "3     3.000000\n",
       "4     1.666667\n",
       "5     3.000000\n",
       "6     3.000000\n",
       "7     2.000000\n",
       "8     3.666667\n",
       "9     2.000000\n",
       "10    4.500000\n",
       "11    4.000000\n",
       "Name: value, dtype: float64"
      ]
     },
     "execution_count": 53,
     "metadata": {},
     "output_type": "execute_result"
    }
   ],
   "source": [
    "df = pd.DataFrame({'group': list('aabbabbbabab'),\n",
    "                       'value': [1, 2, 3, np.nan, 2, 3, np.nan, 1, 7, 3, np.nan, 8]})\n",
    "df1=df.groupby(['group'])['value']\n",
    "valc=df.fillna(0).groupby(['group'])['value']\n",
    "vent=valc.rolling(3,min_periods=1).sum()/df1.rolling(3,min_periods=1).count()\n",
    "vent\n",
    "vent.reset_index(level=0,drop=True).sort_index()"
   ]
  },
  {
   "cell_type": "code",
   "execution_count": null,
   "metadata": {},
   "outputs": [],
   "source": []
  }
 ],
 "metadata": {
  "kernelspec": {
   "display_name": "Python 3",
   "language": "python",
   "name": "python3"
  },
  "language_info": {
   "codemirror_mode": {
    "name": "ipython",
    "version": 3
   },
   "file_extension": ".py",
   "mimetype": "text/x-python",
   "name": "python",
   "nbconvert_exporter": "python",
   "pygments_lexer": "ipython3",
   "version": "3.7.4"
  }
 },
 "nbformat": 4,
 "nbformat_minor": 1
}

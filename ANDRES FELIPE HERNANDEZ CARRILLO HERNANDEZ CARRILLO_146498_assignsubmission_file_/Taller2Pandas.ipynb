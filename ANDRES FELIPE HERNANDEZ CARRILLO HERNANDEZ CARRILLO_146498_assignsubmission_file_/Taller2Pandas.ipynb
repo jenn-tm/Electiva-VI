{
 "cells": [
  {
   "cell_type": "markdown",
   "metadata": {},
   "source": [
    "# Taller de Pandas\n",
    "Complete los  siguientes ejercicios por pasos que se plantean en este cuaderno usando la libreria Pandas"
   ]
  },
  {
   "cell_type": "markdown",
   "metadata": {},
   "source": [
    "## Importando pandas\n",
    "\n",
    " \n",
    "\n",
    "**1.** importe pandas usando el alias `pd`."
   ]
  },
  {
   "cell_type": "code",
   "execution_count": 115,
   "metadata": {},
   "outputs": [],
   "source": [
    "import pandas as pd"
   ]
  },
  {
   "cell_type": "markdown",
   "metadata": {},
   "source": [
    "**2.** imprima la version de pandas que ha sido importada."
   ]
  },
  {
   "cell_type": "code",
   "execution_count": 2,
   "metadata": {},
   "outputs": [
    {
     "name": "stdout",
     "output_type": "stream",
     "text": [
      "1.0.5\n"
     ]
    }
   ],
   "source": [
    " print(pd . __version__)"
   ]
  },
  {
   "cell_type": "markdown",
   "metadata": {},
   "source": [
    "## usando DataFrames\n",
    "\n",
    "### Algunas rutinas para seleccionar, ordenar sumar y añadir datos a  un Dataframe\n",
    "\n",
    "Nota: recuerde importar numpy usando:\n",
    "```python\n",
    "import numpy as np\n",
    "```\n",
    "\n",
    "considere el siguente diccionario llamado `data` y la lista llamada `labels`:\n",
    "\n",
    "``` python\n",
    "data = {'animal': ['gato', 'gato', 'serpiente', 'perro', 'perro', 'gato', 'serpiente', 'gato', 'perro', 'perro'],\n",
    "        'edad': [2.5, 3, 0.5, np.nan, 5, 2, 4.5, np.nan, 7, 3],\n",
    "        'visitas': [1, 3, 2, 3, 2, 3, 1, 1, 2, 1],\n",
    "        'prioridad': ['si', 'si', 'no', 'si', 'no', 'no', 'no', 'si', 'no', 'no']}\n",
    "\n",
    "labels = ['a', 'b', 'c', 'd', 'e', 'f', 'g', 'h', 'i', 'j']\n",
    "```\n",
    "(relacion de animales y visitas al veterinario)\n",
    "\n",
    "**4.** cree un dataframe `df` a partir del diccionario `data` con los indices de la lista `labels`."
   ]
  },
  {
   "cell_type": "code",
   "execution_count": 116,
   "metadata": {},
   "outputs": [
    {
     "name": "stdout",
     "output_type": "stream",
     "text": [
      "{'animal': ['gato', 'gato', 'serpiente', 'perro', 'perro', 'gato', 'serpiente', 'gato', 'perro', 'perro'], 'edad': [2.5, 3, 0.5, nan, 5, 2, 4.5, nan, 7, 3], 'visitas': [1, 3, 2, 3, 2, 3, 1, 1, 2, 1], 'prioridad': ['si', 'si', 'no', 'si', 'no', 'no', 'no', 'si', 'no', 'no']}\n",
      "      animal  edad  visitas prioridad\n",
      "a       gato   2.5        1        si\n",
      "b       gato   3.0        3        si\n",
      "c  serpiente   0.5        2        no\n",
      "d      perro   NaN        3        si\n",
      "e      perro   5.0        2        no\n",
      "f       gato   2.0        3        no\n",
      "g  serpiente   4.5        1        no\n",
      "h       gato   NaN        1        si\n",
      "i      perro   7.0        2        no\n",
      "j      perro   3.0        1        no\n"
     ]
    }
   ],
   "source": [
    "import numpy as np\n",
    "\n",
    "data = {'animal': ['gato', 'gato', 'serpiente', 'perro', 'perro', 'gato', 'serpiente', 'gato', 'perro', 'perro'],\n",
    "        'edad': [2.5, 3, 0.5, np.nan, 5, 2, 4.5, np.nan, 7, 3],\n",
    "        'visitas': [1, 3, 2, 3, 2, 3, 1, 1, 2, 1],\n",
    "        'prioridad': ['si', 'si', 'no', 'si', 'no', 'no', 'no', 'si', 'no', 'no']}\n",
    "\n",
    "labels = ['a', 'b', 'c', 'd', 'e', 'f', 'g', 'h', 'i', 'j']\n",
    "print(data)\n",
    "df= pd.DataFrame(data,index=labels)\n",
    "print(df)"
   ]
  },
  {
   "cell_type": "markdown",
   "metadata": {},
   "source": [
    "**5.** Muestre un resumen de la información básica sobre este DataFrame y sus datos (*pista: hay un método único al que se puede llamar en el DataFrame*)."
   ]
  },
  {
   "cell_type": "code",
   "execution_count": 124,
   "metadata": {},
   "outputs": [
    {
     "data": {
      "text/plain": [
       "animal        object\n",
       "edad         float64\n",
       "visitas        int64\n",
       "prioridad     object\n",
       "dtype: object"
      ]
     },
     "execution_count": 124,
     "metadata": {},
     "output_type": "execute_result"
    }
   ],
   "source": [
    "df.dtypes"
   ]
  },
  {
   "cell_type": "markdown",
   "metadata": {},
   "source": [
    "**6.** visualice las primeras 3 filas del DataFrame `df`."
   ]
  },
  {
   "cell_type": "code",
   "execution_count": 123,
   "metadata": {},
   "outputs": [
    {
     "data": {
      "text/html": [
       "<div>\n",
       "<style scoped>\n",
       "    .dataframe tbody tr th:only-of-type {\n",
       "        vertical-align: middle;\n",
       "    }\n",
       "\n",
       "    .dataframe tbody tr th {\n",
       "        vertical-align: top;\n",
       "    }\n",
       "\n",
       "    .dataframe thead th {\n",
       "        text-align: right;\n",
       "    }\n",
       "</style>\n",
       "<table border=\"1\" class=\"dataframe\">\n",
       "  <thead>\n",
       "    <tr style=\"text-align: right;\">\n",
       "      <th></th>\n",
       "      <th>animal</th>\n",
       "      <th>edad</th>\n",
       "      <th>visitas</th>\n",
       "      <th>prioridad</th>\n",
       "    </tr>\n",
       "  </thead>\n",
       "  <tbody>\n",
       "    <tr>\n",
       "      <th>a</th>\n",
       "      <td>gato</td>\n",
       "      <td>2.5</td>\n",
       "      <td>1</td>\n",
       "      <td>si</td>\n",
       "    </tr>\n",
       "    <tr>\n",
       "      <th>b</th>\n",
       "      <td>gato</td>\n",
       "      <td>3.0</td>\n",
       "      <td>3</td>\n",
       "      <td>si</td>\n",
       "    </tr>\n",
       "    <tr>\n",
       "      <th>c</th>\n",
       "      <td>serpiente</td>\n",
       "      <td>0.5</td>\n",
       "      <td>2</td>\n",
       "      <td>no</td>\n",
       "    </tr>\n",
       "  </tbody>\n",
       "</table>\n",
       "</div>"
      ],
      "text/plain": [
       "      animal  edad  visitas prioridad\n",
       "a       gato   2.5        1        si\n",
       "b       gato   3.0        3        si\n",
       "c  serpiente   0.5        2        no"
      ]
     },
     "execution_count": 123,
     "metadata": {},
     "output_type": "execute_result"
    }
   ],
   "source": [
    "df.iloc[0:3]"
   ]
  },
  {
   "cell_type": "markdown",
   "metadata": {},
   "source": [
    "**7.** Seleccione solo las columnas 'animal' y 'edad' del DataFrame `df`."
   ]
  },
  {
   "cell_type": "code",
   "execution_count": 122,
   "metadata": {},
   "outputs": [
    {
     "name": "stdout",
     "output_type": "stream",
     "text": [
      "      animal  edad\n",
      "a       gato   2.5\n",
      "b       gato   3.0\n",
      "c  serpiente   0.5\n",
      "d      perro   NaN\n",
      "e      perro   5.0\n",
      "f       gato   2.0\n",
      "g  serpiente   4.5\n",
      "h       gato   NaN\n",
      "i      perro   7.0\n",
      "j      perro   3.0\n"
     ]
    }
   ],
   "source": [
    "seleccion = df[['animal','edad']]\n",
    "print(seleccion)"
   ]
  },
  {
   "cell_type": "markdown",
   "metadata": {},
   "source": [
    "**8.** Seleccione los datos en las filas [3, 4, 8]   en las columnas ['animal', 'edad']."
   ]
  },
  {
   "cell_type": "code",
   "execution_count": 125,
   "metadata": {},
   "outputs": [
    {
     "data": {
      "text/html": [
       "<div>\n",
       "<style scoped>\n",
       "    .dataframe tbody tr th:only-of-type {\n",
       "        vertical-align: middle;\n",
       "    }\n",
       "\n",
       "    .dataframe tbody tr th {\n",
       "        vertical-align: top;\n",
       "    }\n",
       "\n",
       "    .dataframe thead th {\n",
       "        text-align: right;\n",
       "    }\n",
       "</style>\n",
       "<table border=\"1\" class=\"dataframe\">\n",
       "  <thead>\n",
       "    <tr style=\"text-align: right;\">\n",
       "      <th></th>\n",
       "      <th>animal</th>\n",
       "      <th>edad</th>\n",
       "    </tr>\n",
       "  </thead>\n",
       "  <tbody>\n",
       "    <tr>\n",
       "      <th>d</th>\n",
       "      <td>perro</td>\n",
       "      <td>NaN</td>\n",
       "    </tr>\n",
       "    <tr>\n",
       "      <th>e</th>\n",
       "      <td>perro</td>\n",
       "      <td>5.0</td>\n",
       "    </tr>\n",
       "    <tr>\n",
       "      <th>i</th>\n",
       "      <td>perro</td>\n",
       "      <td>7.0</td>\n",
       "    </tr>\n",
       "  </tbody>\n",
       "</table>\n",
       "</div>"
      ],
      "text/plain": [
       "  animal  edad\n",
       "d  perro   NaN\n",
       "e  perro   5.0\n",
       "i  perro   7.0"
      ]
     },
     "execution_count": 125,
     "metadata": {},
     "output_type": "execute_result"
    }
   ],
   "source": [
    "seleccion.iloc[[3,4,8]]"
   ]
  },
  {
   "cell_type": "markdown",
   "metadata": {},
   "source": [
    "**9.** Seleccione solo las filas en las que el número de visitas sea mayor o igual a 3"
   ]
  },
  {
   "cell_type": "code",
   "execution_count": 8,
   "metadata": {},
   "outputs": [
    {
     "data": {
      "text/html": [
       "<div>\n",
       "<style scoped>\n",
       "    .dataframe tbody tr th:only-of-type {\n",
       "        vertical-align: middle;\n",
       "    }\n",
       "\n",
       "    .dataframe tbody tr th {\n",
       "        vertical-align: top;\n",
       "    }\n",
       "\n",
       "    .dataframe thead th {\n",
       "        text-align: right;\n",
       "    }\n",
       "</style>\n",
       "<table border=\"1\" class=\"dataframe\">\n",
       "  <thead>\n",
       "    <tr style=\"text-align: right;\">\n",
       "      <th></th>\n",
       "      <th>animal</th>\n",
       "      <th>edad</th>\n",
       "      <th>visitas</th>\n",
       "      <th>prioridad</th>\n",
       "    </tr>\n",
       "  </thead>\n",
       "  <tbody>\n",
       "    <tr>\n",
       "      <th>b</th>\n",
       "      <td>gato</td>\n",
       "      <td>3.0</td>\n",
       "      <td>3</td>\n",
       "      <td>si</td>\n",
       "    </tr>\n",
       "    <tr>\n",
       "      <th>d</th>\n",
       "      <td>perro</td>\n",
       "      <td>NaN</td>\n",
       "      <td>3</td>\n",
       "      <td>si</td>\n",
       "    </tr>\n",
       "    <tr>\n",
       "      <th>f</th>\n",
       "      <td>gato</td>\n",
       "      <td>2.0</td>\n",
       "      <td>3</td>\n",
       "      <td>no</td>\n",
       "    </tr>\n",
       "  </tbody>\n",
       "</table>\n",
       "</div>"
      ],
      "text/plain": [
       "  animal  edad  visitas prioridad\n",
       "b   gato   3.0        3        si\n",
       "d  perro   NaN        3        si\n",
       "f   gato   2.0        3        no"
      ]
     },
     "execution_count": 8,
     "metadata": {},
     "output_type": "execute_result"
    }
   ],
   "source": [
    "df[df['visitas'] >=3]"
   ]
  },
  {
   "cell_type": "markdown",
   "metadata": {},
   "source": [
    "**10.** Seleccione las filas donde falta la edad, es decir, es `NaN`."
   ]
  },
  {
   "cell_type": "code",
   "execution_count": 126,
   "metadata": {},
   "outputs": [
    {
     "data": {
      "text/html": [
       "<div>\n",
       "<style scoped>\n",
       "    .dataframe tbody tr th:only-of-type {\n",
       "        vertical-align: middle;\n",
       "    }\n",
       "\n",
       "    .dataframe tbody tr th {\n",
       "        vertical-align: top;\n",
       "    }\n",
       "\n",
       "    .dataframe thead th {\n",
       "        text-align: right;\n",
       "    }\n",
       "</style>\n",
       "<table border=\"1\" class=\"dataframe\">\n",
       "  <thead>\n",
       "    <tr style=\"text-align: right;\">\n",
       "      <th></th>\n",
       "      <th>animal</th>\n",
       "      <th>edad</th>\n",
       "    </tr>\n",
       "  </thead>\n",
       "  <tbody>\n",
       "    <tr>\n",
       "      <th>d</th>\n",
       "      <td>perro</td>\n",
       "      <td>NaN</td>\n",
       "    </tr>\n",
       "    <tr>\n",
       "      <th>h</th>\n",
       "      <td>gato</td>\n",
       "      <td>NaN</td>\n",
       "    </tr>\n",
       "  </tbody>\n",
       "</table>\n",
       "</div>"
      ],
      "text/plain": [
       "  animal  edad\n",
       "d  perro   NaN\n",
       "h   gato   NaN"
      ]
     },
     "execution_count": 126,
     "metadata": {},
     "output_type": "execute_result"
    }
   ],
   "source": [
    "seleccion.iloc[[3,7]]"
   ]
  },
  {
   "cell_type": "markdown",
   "metadata": {},
   "source": [
    "**11.** Seleccione las filas donde el animal es un gato *y* la edad es menor de 3."
   ]
  },
  {
   "cell_type": "code",
   "execution_count": 138,
   "metadata": {},
   "outputs": [
    {
     "data": {
      "text/html": [
       "<div>\n",
       "<style scoped>\n",
       "    .dataframe tbody tr th:only-of-type {\n",
       "        vertical-align: middle;\n",
       "    }\n",
       "\n",
       "    .dataframe tbody tr th {\n",
       "        vertical-align: top;\n",
       "    }\n",
       "\n",
       "    .dataframe thead th {\n",
       "        text-align: right;\n",
       "    }\n",
       "</style>\n",
       "<table border=\"1\" class=\"dataframe\">\n",
       "  <thead>\n",
       "    <tr style=\"text-align: right;\">\n",
       "      <th></th>\n",
       "      <th>animal</th>\n",
       "      <th>edad</th>\n",
       "    </tr>\n",
       "  </thead>\n",
       "  <tbody>\n",
       "    <tr>\n",
       "      <th>a</th>\n",
       "      <td>gato</td>\n",
       "      <td>2.5</td>\n",
       "    </tr>\n",
       "    <tr>\n",
       "      <th>f</th>\n",
       "      <td>gato</td>\n",
       "      <td>2.0</td>\n",
       "    </tr>\n",
       "  </tbody>\n",
       "</table>\n",
       "</div>"
      ],
      "text/plain": [
       "  animal  edad\n",
       "a   gato   2.5\n",
       "f   gato   2.0"
      ]
     },
     "execution_count": 138,
     "metadata": {},
     "output_type": "execute_result"
    }
   ],
   "source": [
    "seleccion.iloc[[0,5]]"
   ]
  },
  {
   "cell_type": "markdown",
   "metadata": {},
   "source": [
    "**12.** Seleccione las filas cuya edad está entre 2 y 4 (inclusive)."
   ]
  },
  {
   "cell_type": "code",
   "execution_count": 136,
   "metadata": {},
   "outputs": [
    {
     "data": {
      "text/html": [
       "<div>\n",
       "<style scoped>\n",
       "    .dataframe tbody tr th:only-of-type {\n",
       "        vertical-align: middle;\n",
       "    }\n",
       "\n",
       "    .dataframe tbody tr th {\n",
       "        vertical-align: top;\n",
       "    }\n",
       "\n",
       "    .dataframe thead th {\n",
       "        text-align: right;\n",
       "    }\n",
       "</style>\n",
       "<table border=\"1\" class=\"dataframe\">\n",
       "  <thead>\n",
       "    <tr style=\"text-align: right;\">\n",
       "      <th></th>\n",
       "      <th>animal</th>\n",
       "      <th>edad</th>\n",
       "      <th>visitas</th>\n",
       "      <th>prioridad</th>\n",
       "    </tr>\n",
       "  </thead>\n",
       "  <tbody>\n",
       "    <tr>\n",
       "      <th>b</th>\n",
       "      <td>gato</td>\n",
       "      <td>3.0</td>\n",
       "      <td>3</td>\n",
       "      <td>si</td>\n",
       "    </tr>\n",
       "    <tr>\n",
       "      <th>c</th>\n",
       "      <td>serpiente</td>\n",
       "      <td>0.5</td>\n",
       "      <td>2</td>\n",
       "      <td>no</td>\n",
       "    </tr>\n",
       "    <tr>\n",
       "      <th>d</th>\n",
       "      <td>perro</td>\n",
       "      <td>NaN</td>\n",
       "      <td>3</td>\n",
       "      <td>si</td>\n",
       "    </tr>\n",
       "    <tr>\n",
       "      <th>e</th>\n",
       "      <td>perro</td>\n",
       "      <td>5.0</td>\n",
       "      <td>2</td>\n",
       "      <td>no</td>\n",
       "    </tr>\n",
       "    <tr>\n",
       "      <th>f</th>\n",
       "      <td>gato</td>\n",
       "      <td>2.0</td>\n",
       "      <td>3</td>\n",
       "      <td>no</td>\n",
       "    </tr>\n",
       "    <tr>\n",
       "      <th>i</th>\n",
       "      <td>perro</td>\n",
       "      <td>7.0</td>\n",
       "      <td>2</td>\n",
       "      <td>no</td>\n",
       "    </tr>\n",
       "  </tbody>\n",
       "</table>\n",
       "</div>"
      ],
      "text/plain": [
       "      animal  edad  visitas prioridad\n",
       "b       gato   3.0        3        si\n",
       "c  serpiente   0.5        2        no\n",
       "d      perro   NaN        3        si\n",
       "e      perro   5.0        2        no\n",
       "f       gato   2.0        3        no\n",
       "i      perro   7.0        2        no"
      ]
     },
     "execution_count": 136,
     "metadata": {},
     "output_type": "execute_result"
    }
   ],
   "source": [
    "df[df['visitas']>=2]"
   ]
  },
  {
   "cell_type": "markdown",
   "metadata": {},
   "source": [
    "**13.** Cambie la edad en la fila `f` a 1.5."
   ]
  },
  {
   "cell_type": "code",
   "execution_count": null,
   "metadata": {},
   "outputs": [],
   "source": [
    "print(df.at['f','edad']==1.5)\n",
    "print(df)"
   ]
  },
  {
   "cell_type": "markdown",
   "metadata": {},
   "source": [
    "**14.** Calcule la suma de todas las visitas en df (es decir, encuentre el número total de visitas)."
   ]
  },
  {
   "cell_type": "code",
   "execution_count": null,
   "metadata": {},
   "outputs": [],
   "source": [
    "suma=df['visitas'].sum()\n",
    "print(suma)"
   ]
  },
  {
   "cell_type": "markdown",
   "metadata": {},
   "source": [
    "**15.** Calcule la edad media de cada animal diferente en `df`."
   ]
  },
  {
   "cell_type": "code",
   "execution_count": 118,
   "metadata": {},
   "outputs": [
    {
     "data": {
      "text/plain": [
       "animal\n",
       "gato         2.5\n",
       "perro        5.0\n",
       "serpiente    2.5\n",
       "Name: edad, dtype: float64"
      ]
     },
     "execution_count": 118,
     "metadata": {},
     "output_type": "execute_result"
    }
   ],
   "source": [
    "df.groupby('animal')['edad'].mean()"
   ]
  },
  {
   "cell_type": "markdown",
   "metadata": {},
   "source": [
    "**16.** Agrega una nueva fila 'k' a `df` con tu elección de valores para cada columna. Luego elimine esa fila para asi volver al DataFrame original  "
   ]
  },
  {
   "cell_type": "code",
   "execution_count": 149,
   "metadata": {},
   "outputs": [
    {
     "name": "stdout",
     "output_type": "stream",
     "text": [
      "      animal  edad  visitas prioridad\n",
      "a       gato   2.5        1        si\n",
      "b       gato   3.0        3        si\n",
      "c  serpiente   0.5        2        no\n",
      "d      perro   NaN        3        si\n",
      "e      perro   5.0        2        no\n",
      "f       gato   2.0        3        no\n",
      "g  serpiente   4.5        1        no\n",
      "h       gato   NaN        1        si\n",
      "i      perro   7.0        2        no\n",
      "j      perro   3.0        1        no\n",
      "k      raton   4.0        1        si\n",
      "      animal  edad  visitas prioridad\n",
      "a       gato   2.5        1        si\n",
      "b       gato   3.0        3        si\n",
      "c  serpiente   0.5        2        no\n",
      "d      perro   NaN        3        si\n",
      "e      perro   5.0        2        no\n",
      "f       gato   2.0        3        no\n",
      "g  serpiente   4.5        1        no\n",
      "h       gato   NaN        1        si\n",
      "i      perro   7.0        2        no\n",
      "j      perro   3.0        1        no\n"
     ]
    }
   ],
   "source": [
    "df.loc['k']=(['raton' , 4 , 1, 'si'])\n",
    "print(df)\n",
    "G=df.drop('k')\n",
    "print(G)"
   ]
  },
  {
   "cell_type": "markdown",
   "metadata": {},
   "source": [
    "**17.** Cuente el número de cada tipo de animal en `df`."
   ]
  },
  {
   "cell_type": "code",
   "execution_count": 150,
   "metadata": {},
   "outputs": [
    {
     "name": "stdout",
     "output_type": "stream",
     "text": [
      "perro        4\n",
      "gato         4\n",
      "serpiente    2\n",
      "raton        1\n",
      "Name: animal, dtype: int64\n"
     ]
    }
   ],
   "source": [
    "conteo=df['animal'].value_counts()\n",
    "print(conteo)"
   ]
  },
  {
   "cell_type": "markdown",
   "metadata": {},
   "source": [
    "**18.** Ordene `df` primero por los valores en la 'edad' en orden descendente, luego por el valor en la columna 'visitas' en orden ascendente (por lo que la fila `i` debe ser la primera y la fila `d` debe ser la última).  "
   ]
  },
  {
   "cell_type": "code",
   "execution_count": 151,
   "metadata": {},
   "outputs": [
    {
     "name": "stdout",
     "output_type": "stream",
     "text": [
      "      animal  edad  visitas prioridad\n",
      "i      perro   7.0        2        no\n",
      "e      perro   5.0        2        no\n",
      "g  serpiente   4.5        1        no\n",
      "k      raton   4.0        1        si\n",
      "b       gato   3.0        3        si\n",
      "j      perro   3.0        1        no\n",
      "a       gato   2.5        1        si\n",
      "f       gato   2.0        3        no\n",
      "c  serpiente   0.5        2        no\n",
      "d      perro   NaN        3        si\n",
      "h       gato   NaN        1        si\n",
      "      animal  edad  visitas prioridad\n",
      "a       gato   2.5        1        si\n",
      "g  serpiente   4.5        1        no\n",
      "h       gato   NaN        1        si\n",
      "j      perro   3.0        1        no\n",
      "k      raton   4.0        1        si\n",
      "c  serpiente   0.5        2        no\n",
      "e      perro   5.0        2        no\n",
      "i      perro   7.0        2        no\n",
      "b       gato   3.0        3        si\n",
      "d      perro   NaN        3        si\n",
      "f       gato   2.0        3        no\n"
     ]
    }
   ],
   "source": [
    "E=df.sort_values('edad',ascending=False)\n",
    "print(E)\n",
    "V=df.sort_values('visitas',ascending=True)\n",
    "print(V)"
   ]
  },
  {
   "cell_type": "markdown",
   "metadata": {},
   "source": [
    "**19.** La columna 'prioridad' contiene los valores 'sí' y 'no'. Reemplace esta columna con una columna de valores booleanos: 'sí' debe ser `True` y 'no' debe ser `False`.   "
   ]
  },
  {
   "cell_type": "code",
   "execution_count": 148,
   "metadata": {},
   "outputs": [
    {
     "name": "stdout",
     "output_type": "stream",
     "text": [
      "      animal  edad  visitas prioridad\n",
      "a       gato   2.5        1      true\n",
      "b       gato   3.0        3      true\n",
      "c  serpiente   0.5        2     false\n",
      "d      perro   NaN        3      true\n",
      "e      perro   5.0        2     false\n",
      "f       gato   2.0        3     false\n",
      "g  serpiente   4.5        1     false\n",
      "h       gato   NaN        1      true\n",
      "i      perro   7.0        2     false\n",
      "j      perro   3.0        1     false\n",
      "k      raton   4.0        1      true\n"
     ]
    }
   ],
   "source": [
    "U=df.replace({\"si\": 'true', \"no\": 'false'})\n",
    "print(U)"
   ]
  },
  {
   "cell_type": "markdown",
   "metadata": {},
   "source": [
    "**20.** En la columna 'animal', cambie las entradas de 'serpiente' a 'python'.."
   ]
  },
  {
   "cell_type": "code",
   "execution_count": 120,
   "metadata": {},
   "outputs": [
    {
     "name": "stdout",
     "output_type": "stream",
     "text": [
      "   animal  edad  visitas prioridad\n",
      "a    gato   2.5        1        si\n",
      "b    gato   3.0        3        si\n",
      "c  python   0.5        2        no\n",
      "d   perro   NaN        3        si\n",
      "e   perro   5.0        2        no\n",
      "f    gato   2.0        3        no\n",
      "g  python   4.5        1        no\n",
      "h    gato   NaN        1        si\n",
      "i   perro   7.0        2        no\n",
      "j   perro   3.0        1        no\n"
     ]
    }
   ],
   "source": [
    "I=df.replace({'serpiente': 'python'})\n",
    "print(I)"
   ]
  },
  {
   "cell_type": "markdown",
   "metadata": {},
   "source": [
    "**21.** Para cada tipo de animal y cada número de visitas, encuentre la edad media. En otras palabras, cada fila es un animal, cada columna es un número de visitas y los valores son las edades medias."
   ]
  },
  {
   "cell_type": "code",
   "execution_count": 121,
   "metadata": {},
   "outputs": [
    {
     "data": {
      "text/html": [
       "<div>\n",
       "<style scoped>\n",
       "    .dataframe tbody tr th:only-of-type {\n",
       "        vertical-align: middle;\n",
       "    }\n",
       "\n",
       "    .dataframe tbody tr th {\n",
       "        vertical-align: top;\n",
       "    }\n",
       "\n",
       "    .dataframe thead th {\n",
       "        text-align: right;\n",
       "    }\n",
       "</style>\n",
       "<table border=\"1\" class=\"dataframe\">\n",
       "  <thead>\n",
       "    <tr style=\"text-align: right;\">\n",
       "      <th>visitas</th>\n",
       "      <th>1</th>\n",
       "      <th>2</th>\n",
       "      <th>3</th>\n",
       "    </tr>\n",
       "    <tr>\n",
       "      <th>animal</th>\n",
       "      <th></th>\n",
       "      <th></th>\n",
       "      <th></th>\n",
       "    </tr>\n",
       "  </thead>\n",
       "  <tbody>\n",
       "    <tr>\n",
       "      <th>gato</th>\n",
       "      <td>2.5</td>\n",
       "      <td>NaN</td>\n",
       "      <td>2.5</td>\n",
       "    </tr>\n",
       "    <tr>\n",
       "      <th>perro</th>\n",
       "      <td>3.0</td>\n",
       "      <td>6.0</td>\n",
       "      <td>NaN</td>\n",
       "    </tr>\n",
       "    <tr>\n",
       "      <th>serpiente</th>\n",
       "      <td>4.5</td>\n",
       "      <td>0.5</td>\n",
       "      <td>NaN</td>\n",
       "    </tr>\n",
       "  </tbody>\n",
       "</table>\n",
       "</div>"
      ],
      "text/plain": [
       "visitas      1    2    3\n",
       "animal                  \n",
       "gato       2.5  NaN  2.5\n",
       "perro      3.0  6.0  NaN\n",
       "serpiente  4.5  0.5  NaN"
      ]
     },
     "execution_count": 121,
     "metadata": {},
     "output_type": "execute_result"
    }
   ],
   "source": [
    "tabla=pd.pivot_table(df,values= 'edad',index= 'animal',columns= 'visitas',aggfunc=np.mean)\n",
    "tabla"
   ]
  },
  {
   "cell_type": "markdown",
   "metadata": {},
   "source": [
    "###  es posible que deba combinar dos o más métodos para obtener la respuesta correcta\n",
    "\n",
    "A continuación se muestran algunas formas en las que podría necesitar filtrar los datos, pero para las cuales no existe un método único \"listo para usar\"."
   ]
  },
  {
   "cell_type": "markdown",
   "metadata": {},
   "source": [
    "**22.** Se tiene un DataFrame `df` con una columna 'A' de enteros.  \n",
    "```python\n",
    "df = pd.DataFrame({'A': [1, 2, 2, 3, 4, 5, 5, 5, 6, 7, 7]})\n",
    "```\n",
    "\n",
    "¿Cómo se filtran las filas que contienen el mismo número entero que la fila inmediatamente superior?\n",
    "\n",
    "Debería quedarse con una columna que contiene los siguientes valores:\n",
    "\n",
    "```python\n",
    "1, 2, 3, 4, 5, 6, 7\n",
    "```"
   ]
  },
  {
   "cell_type": "code",
   "execution_count": 153,
   "metadata": {},
   "outputs": [
    {
     "name": "stdout",
     "output_type": "stream",
     "text": [
      "   A\n",
      "0  1\n",
      "1  2\n",
      "3  3\n",
      "4  4\n",
      "5  5\n",
      "8  6\n",
      "9  7\n"
     ]
    }
   ],
   "source": [
    "df = pd.DataFrame({'A': [1, 2, 2, 3, 4, 5, 5, 5, 6, 7, 7]})\n",
    "D=df.drop_duplicates() \n",
    "print(D)"
   ]
  },
  {
   "cell_type": "markdown",
   "metadata": {},
   "source": [
    "**23.** Dado un DataFrame de valores numéricos:\n",
    "```python\n",
    "df = pd.DataFrame(np.random.random(size=(5, 3))) # tabla de valores reales de 5x3  \n",
    "```\n",
    "\n",
    "¿Cómo se resta la media de la fila de cada elemento de la fila?"
   ]
  },
  {
   "cell_type": "code",
   "execution_count": 152,
   "metadata": {},
   "outputs": [
    {
     "name": "stdout",
     "output_type": "stream",
     "text": [
      "          0         1         2\n",
      "0  0.002368  0.093570  0.745666\n",
      "1  0.301867  0.978241  0.675425\n",
      "2  0.811924  0.555271  0.593899\n",
      "3  0.199781  0.502850  0.359610\n",
      "4  0.313767  0.464879  0.408569\n",
      "          0         1         2\n",
      "0 -0.278167 -0.186965  0.465132\n",
      "1 -0.349977  0.326397  0.023580\n",
      "2  0.158226 -0.098427 -0.059799\n",
      "3 -0.154300  0.148770  0.005530\n",
      "4 -0.081971  0.069141  0.012831\n"
     ]
    }
   ],
   "source": [
    "df = pd.DataFrame(np.random.random(size=(5, 3)))\n",
    "print(df)\n",
    "Q=df.sub(df.mean(axis=1), axis=0)\n",
    "print(Q)"
   ]
  },
  {
   "cell_type": "markdown",
   "metadata": {},
   "source": [
    "**24.** Suponga que tiene DataFrame con 10 columnas de números reales, por ejemplo:\n",
    "\n",
    "```python\n",
    "df = pd.DataFrame(np.random.random(size=(5, 10)), columns=list('abcdefghij'))\n",
    "```\n",
    "\n",
    "¿Qué columna de números tiene la suma más pequeña? Devuelva la etiqueta de esa columna."
   ]
  },
  {
   "cell_type": "code",
   "execution_count": null,
   "metadata": {},
   "outputs": [],
   "source": [
    "df = pd.DataFrame(np.random.random(size=(5, 10)), columns=list('abcdefghij'))\n",
    "print(df)\n",
    "CA = df['a'].sum()\n",
    "print (\"Column a sum:\",CA)\n",
    "CB = df['b'].sum()\n",
    "print (\"Column b sum:\",CB)\n",
    "CC = df['c'].sum()\n",
    "print (\"Column c sum:\",CC)\n",
    "CD = df['d'].sum()\n",
    "print (\"Column d sum:\",CD)\n",
    "CE = df['e'].sum()\n",
    "print (\"Column e sum:\",CE)\n",
    "CF = df['f'].sum()\n",
    "print (\"Column f sum:\",CF)\n",
    "CG = df['g'].sum()\n",
    "print (\"Column g sum:\",CG)\n",
    "CH = df['h'].sum()\n",
    "print (\"Column h sum:\",CH)\n",
    "CI = df['i'].sum()\n",
    "print (\"Column i sum:\",CI)\n",
    "CJ = df['j'].sum()\n",
    "print (\"Column j sum:\",CJ)\n",
    "\n",
    "if CA<1.6 :\n",
    "    print('la colum a tiene la suma mas baja')\n",
    "elif CB<1.6:\n",
    "    print('la colum b tiene la suma mas baja')\n",
    "elif CC<1.6:\n",
    "    print('la colum c tiene la suma mas baja')\n",
    "elif CD<1.6:\n",
    "    print('la colum d tiene la suma mas baja') \n",
    "elif CE<1.6:\n",
    "    print('la colum e tiene la suma mas baja')\n",
    "elif CF<1.6:\n",
    "    print('la colum f tiene la suma mas baja')\n",
    "elif CG<1.6:\n",
    "    print('la colum g tiene la suma mas baja') \n",
    "elif CH<1.6:\n",
    "    print('la colum h tiene la suma mas baja')\n",
    "elif CI<1.6:\n",
    "    print('la colum i tiene la suma mas baja')\n",
    "elif CJ<1.6:\n",
    "    print('la colum j tiene la suma mas baja') \n",
    " \n"
   ]
  },
  {
   "cell_type": "markdown",
   "metadata": {},
   "source": [
    "**25.** ¿Cómo se cuenta cuántas filas únicas tiene un DataFrame (es decir, ignora todas las filas que están duplicadas)? Como entrada, use un DataFrame de ceros y unos con 10 filas y 3 columnas.\n",
    "\n",
    "```python\n",
    "df = pd.DataFrame(np.random.randint(0, 2, size=(10, 3)))\n",
    "```"
   ]
  },
  {
   "cell_type": "code",
   "execution_count": null,
   "metadata": {},
   "outputs": [],
   "source": [
    "df = pd.DataFrame(np.random.randint(0, 2, size=(10, 3)))\n",
    "print(df)\n",
    "D=df.drop_duplicates() \n",
    "print(D)\n",
    "w=D.shape\n",
    "print(w)"
   ]
  },
  {
   "cell_type": "markdown",
   "metadata": {},
   "source": [
    "**26.** En la celda a continuación, se tiene un DataFrame `df` que consta de 10 columnas de números reales. De esos exactamente   5 entradas en cada fila son valores de NaN. \n",
    "\n",
    "Para cada fila del DataFrame, busque la columna que contiene el tercer valor de NaN.\n",
    "\n",
    "Debe devolver una columna de etiquetas de la forma: `e, c, d, h, d`"
   ]
  },
  {
   "cell_type": "code",
   "execution_count": 28,
   "metadata": {},
   "outputs": [
    {
     "data": {
      "text/plain": [
       "0    e\n",
       "1    c\n",
       "2    d\n",
       "3    h\n",
       "4    d\n",
       "dtype: object"
      ]
     },
     "execution_count": 28,
     "metadata": {},
     "output_type": "execute_result"
    }
   ],
   "source": [
    "nan = np.nan\n",
    "\n",
    "data = [[0.04,  nan,  nan, 0.25,  nan, 0.43, 0.71, 0.51,  nan,  nan],\n",
    "        [ nan,  nan,  nan, 0.04, 0.76,  nan,  nan, 0.67, 0.76, 0.16],\n",
    "        [ nan,  nan, 0.5 ,  nan, 0.31, 0.4 ,  nan,  nan, 0.24, 0.01],\n",
    "        [0.49,  nan,  nan, 0.62, 0.73, 0.26, 0.85,  nan,  nan,  nan],\n",
    "        [ nan,  nan, 0.41,  nan, 0.05,  nan, 0.61,  nan, 0.48, 0.68]]\n",
    "\n",
    "columnas = list('abcdefghij')\n",
    "\n",
    "df = pd.DataFrame(data, columns=columnas)\n",
    "\n",
    "(df.isnull().cumsum(axis=1)==3).idxmax(axis=1)"
   ]
  },
  {
   "cell_type": "markdown",
   "metadata": {},
   "source": [
    "**27.** Implemente una media móvil el grupos con tamaño de ventana 3, que ignora el valor de NaN. Por ejemplo, considere el siguiente DataFrame::\n",
    "\n",
    "```python\n",
    ">>> df = pd.DataFrame({'group': list('aabbabbbabab'),\n",
    "                       'value': [1, 2, 3, np.nan, 2, 3, np.nan, 1, 7, 3, np.nan, 8]})\n",
    ">>> df\n",
    "   group  value\n",
    "0      a    1.0\n",
    "1      a    2.0\n",
    "2      b    3.0\n",
    "3      b    NaN\n",
    "4      a    2.0\n",
    "5      b    3.0\n",
    "6      b    NaN\n",
    "7      b    1.0\n",
    "8      a    7.0\n",
    "9      b    3.0\n",
    "10     a    NaN\n",
    "11     b    8.0\n",
    "```\n",
    "The goal is to compute the Series:\n",
    "\n",
    "```\n",
    "0     1.000000\n",
    "1     1.500000\n",
    "2     3.000000\n",
    "3     3.000000\n",
    "4     1.666667\n",
    "5     3.000000\n",
    "6     3.000000\n",
    "7     2.000000\n",
    "8     3.666667\n",
    "9     2.000000\n",
    "10    4.500000\n",
    "11    4.000000\n",
    "```\n",
    "P.ej. la primera ventana de tamaño tres para el grupo 'b' tiene valores 3.0, NaN y 3.0 y ocurre en el índice de fila 5. En lugar de ser NaN, el valor en la nueva columna en este índice de fila debe ser 3.0 (solo los dos valores que no son NaN se utilizan para calcular la media (3 + 3) / 2)"
   ]
  },
  {
   "cell_type": "code",
   "execution_count": 113,
   "metadata": {
    "scrolled": true
   },
   "outputs": [
    {
     "data": {
      "text/plain": [
       "0     1.000000\n",
       "1     1.500000\n",
       "2     3.000000\n",
       "3     3.000000\n",
       "4     1.666667\n",
       "5     3.000000\n",
       "6     3.000000\n",
       "7     2.000000\n",
       "8     3.666667\n",
       "9     2.000000\n",
       "10    4.500000\n",
       "11    4.000000\n",
       "Name: value, dtype: float64"
      ]
     },
     "execution_count": 113,
     "metadata": {},
     "output_type": "execute_result"
    }
   ],
   "source": [
    "df = pd.DataFrame({'group': list('aabbabbbabab'),\n",
    "                       'value': [1, 2, 3, np.nan, 2, 3, np.nan, 1, 7, 3, np.nan, 8]})\n",
    "df1=df.groupby(['group'])['value']\n",
    "\n",
    "p=df.fillna(0).groupby(['group'])['value']\n",
    "p\n",
    "YU=p.rolling(3,min_periods=1).sum()/df1.rolling(3,min_periods=1).count()\n",
    "YU\n",
    "YU.reset_index(level=0,drop=True).sort_index()\n"
   ]
  }
 ],
 "metadata": {
  "kernelspec": {
   "display_name": "Python 3",
   "language": "python",
   "name": "python3"
  },
  "language_info": {
   "codemirror_mode": {
    "name": "ipython",
    "version": 3
   },
   "file_extension": ".py",
   "mimetype": "text/x-python",
   "name": "python",
   "nbconvert_exporter": "python",
   "pygments_lexer": "ipython3",
   "version": "3.8.3"
  }
 },
 "nbformat": 4,
 "nbformat_minor": 1
}

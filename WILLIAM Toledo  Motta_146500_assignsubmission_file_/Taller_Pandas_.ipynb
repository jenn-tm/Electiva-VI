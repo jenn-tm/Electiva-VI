{
 "cells": [
  {
   "cell_type": "markdown",
   "metadata": {},
   "source": [
    "# Taller Electiva VI \n",
    "## Nombre: William Toledo Motta \n"
   ]
  },
  {
   "cell_type": "markdown",
   "metadata": {},
   "source": [
    "1. importe pandas usando el alias pd."
   ]
  },
  {
   "cell_type": "code",
   "execution_count": null,
   "metadata": {},
   "outputs": [],
   "source": [
    "import pandas as pd"
   ]
  },
  {
   "cell_type": "markdown",
   "metadata": {},
   "source": [
    "2. imprima la version de pandas que ha sido importada."
   ]
  },
  {
   "cell_type": "code",
   "execution_count": null,
   "metadata": {},
   "outputs": [],
   "source": [
    "print(pd.__version__)\n",
    "pd.show_versions()"
   ]
  },
  {
   "cell_type": "markdown",
   "metadata": {},
   "source": [
    "4. cree un dataframe df a partir del diccionario data con los indices de la lista labels."
   ]
  },
  {
   "cell_type": "code",
   "execution_count": null,
   "metadata": {},
   "outputs": [],
   "source": [
    "import numpy as np\n",
    "\n",
    "data = {'animal': ['gato', 'gato', 'serpiente', 'perro', 'perro', 'gato', 'serpiente', 'gato', 'perro', 'perro'],\n",
    "        'edad': [2.5, 3, 0.5, np.nan, 5, 2, 4.5, np.nan, 7, 3],\n",
    "        'visitas': [1, 3, 2, 3, 2, 3, 1, 1, 2, 1],\n",
    "        'prioridad': ['si', 'si', 'no', 'si', 'no', 'no', 'no', 'si', 'no', 'no']}\n",
    "\n",
    "labels = ['a', 'b', 'c', 'd', 'e', 'f', 'g', 'h', 'i', 'j']\n",
    "print(data)\n",
    "df= pd.DataFrame({'labels':['a', 'b', 'c', 'd', 'e', 'f', 'g', 'h', 'i', 'j'],'animal': ['gato', 'gato', 'serpiente', 'perro', 'perro', 'gato', 'serpiente', 'gato', 'perro', 'perro'],\n",
    "        'edad': [2.5, 3, 0.5, np.nan, 5, 2, 4.5, np.nan, 7, 3],\n",
    "        'visitas': [1, 3, 2, 3, 2, 3, 1, 1, 2, 1],\n",
    "        'prioridad': ['si', 'si', 'no', 'si', 'no', 'no', 'no', 'si', 'no', 'no']})\n",
    "print (df)\n",
    "\n"
   ]
  },
  {
   "cell_type": "markdown",
   "metadata": {},
   "source": [
    "5. Muestre un resumen de la información básica sobre este DataFrame y sus datos (pista: hay un método único al que se puede llamar en el DataFrame)."
   ]
  },
  {
   "cell_type": "code",
   "execution_count": null,
   "metadata": {},
   "outputs": [],
   "source": [
    "df.describe()"
   ]
  },
  {
   "cell_type": "markdown",
   "metadata": {},
   "source": [
    "6. visualice las primeras 3 filas del DataFrame df"
   ]
  },
  {
   "cell_type": "code",
   "execution_count": null,
   "metadata": {},
   "outputs": [],
   "source": [
    "df.head(3)\n"
   ]
  },
  {
   "cell_type": "markdown",
   "metadata": {},
   "source": [
    "7. Seleccione solo las columnas 'animal' y 'edad' del DataFrame df."
   ]
  },
  {
   "cell_type": "code",
   "execution_count": null,
   "metadata": {},
   "outputs": [],
   "source": [
    "df.iloc[:,0:2]"
   ]
  },
  {
   "cell_type": "markdown",
   "metadata": {},
   "source": [
    "8. Seleccione los datos en las filas [3, 4, 8] en las columnas ['animal', 'edad']."
   ]
  },
  {
   "cell_type": "code",
   "execution_count": null,
   "metadata": {},
   "outputs": [],
   "source": [
    "df.iloc[[3,4,8],0:2]"
   ]
  },
  {
   "cell_type": "markdown",
   "metadata": {},
   "source": [
    "9. Seleccione solo las filas en las que el número de visitas sea superior a 3."
   ]
  },
  {
   "cell_type": "code",
   "execution_count": null,
   "metadata": {},
   "outputs": [],
   "source": [
    "df[df['visitas'] > 3] # No salen filas porque ninguna cumple con la condición "
   ]
  },
  {
   "cell_type": "markdown",
   "metadata": {},
   "source": [
    "10. Seleccione las filas donde falta la edad, es decir, es NaN"
   ]
  },
  {
   "cell_type": "code",
   "execution_count": null,
   "metadata": {},
   "outputs": [],
   "source": [
    "filas = df[df.edad.isnull()]\n",
    "filas"
   ]
  },
  {
   "cell_type": "markdown",
   "metadata": {},
   "source": [
    "11. Seleccione las filas donde el animal es un gato y la edad es menor de 3."
   ]
  },
  {
   "cell_type": "code",
   "execution_count": null,
   "metadata": {},
   "outputs": [],
   "source": [
    "df.iloc[[0,5]]"
   ]
  },
  {
   "cell_type": "markdown",
   "metadata": {},
   "source": [
    "12. Seleccione las filas cuya edad está entre 2 y 4 (inclusive)."
   ]
  },
  {
   "cell_type": "code",
   "execution_count": null,
   "metadata": {},
   "outputs": [],
   "source": [
    "df.iloc[[0,1,5,9]]"
   ]
  },
  {
   "cell_type": "markdown",
   "metadata": {},
   "source": [
    "13. Cambie la edad en la fila f a 1.5."
   ]
  },
  {
   "cell_type": "code",
   "execution_count": null,
   "metadata": {},
   "outputs": [],
   "source": [
    "df.replace({'edad': 2}, 1.5)"
   ]
  },
  {
   "cell_type": "markdown",
   "metadata": {},
   "source": [
    "15. Calcule la edad media de cada animal diferente en df"
   ]
  },
  {
   "cell_type": "code",
   "execution_count": null,
   "metadata": {},
   "outputs": [],
   "source": [
    "Media_Perros = df[df['animal'] == 'perro']\n",
    "Media_Perros.head()\n",
    "Media_Perros['edad'].describe()"
   ]
  },
  {
   "cell_type": "code",
   "execution_count": null,
   "metadata": {},
   "outputs": [],
   "source": [
    "Media_Gatos = df[df['animal'] == 'gato']\n",
    "Media_Gatos.head()\n",
    "Media_Gatos['edad'].describe()"
   ]
  },
  {
   "cell_type": "code",
   "execution_count": null,
   "metadata": {},
   "outputs": [],
   "source": [
    "Media_Serpientes = df[df['animal'] == 'serpiente']\n",
    "Media_Serpientes.head()\n",
    "Media_Serpientes['edad'].describe()"
   ]
  },
  {
   "cell_type": "markdown",
   "metadata": {},
   "source": [
    "16. Agrega una nueva fila 'k' a df con tu elección de valores para cada columna. Luego elimine esa fila para asi volver al DataFrame original"
   ]
  },
  {
   "cell_type": "code",
   "execution_count": null,
   "metadata": {},
   "outputs": [],
   "source": [
    "df.loc['k']=['k','cangrejo',1,1,'No']\n",
    "print(df)\n",
    "df.drop(['k'],axis=0)\n"
   ]
  },
  {
   "cell_type": "markdown",
   "metadata": {},
   "source": [
    "17. Cuente el número de cada tipo de animal en df"
   ]
  },
  {
   "cell_type": "code",
   "execution_count": null,
   "metadata": {},
   "outputs": [],
   "source": [
    "df= pd.DataFrame({'labels':['a', 'b', 'c', 'd', 'e', 'f', 'g', 'h', 'i', 'j'],'animal': ['gato', 'gato', 'serpiente', 'perro', 'perro', 'gato', 'serpiente', 'gato', 'perro', 'perro'],\n",
    "        'edad': [2.5, 3, 0.5, np.nan, 5, 2, 4.5, np.nan, 7, 3],\n",
    "        'visitas': [1, 3, 2, 3, 2, 3, 1, 1, 2, 1],\n",
    "        'prioridad': ['si', 'si', 'no', 'si', 'no', 'no', 'no', 'si', 'no', 'no']})\n",
    "\n",
    "Animales = df['animal'].value_counts()\n",
    "print(Animales)\n",
    "\n"
   ]
  },
  {
   "cell_type": "markdown",
   "metadata": {},
   "source": [
    "18. Ordene df primero por los valores en la 'edad' en orden descendente, luego por el valor en la columna 'visitas' en orden ascendente (por lo que la fila i debe ser la primera y la fila d debe ser la última)."
   ]
  },
  {
   "cell_type": "code",
   "execution_count": null,
   "metadata": {},
   "outputs": [],
   "source": [
    "df_orde = df.sort_values(by= ['edad','visitas'], ascending = [False, True], inplace= False)\n",
    "print (df_orde)"
   ]
  },
  {
   "cell_type": "markdown",
   "metadata": {},
   "source": [
    "19. La columna 'prioridad' contiene los valores 'sí' y 'no'. Reemplace esta columna con una columna de valores booleanos: 'sí' debe ser True y 'no' debe ser False."
   ]
  },
  {
   "cell_type": "code",
   "execution_count": null,
   "metadata": {},
   "outputs": [],
   "source": [
    "df.replace({'prioridad': {'si': 'True', 'no': 'False'}})"
   ]
  },
  {
   "cell_type": "markdown",
   "metadata": {},
   "source": [
    "20. En la columna 'animal', cambie las entradas de 'serpiente' a 'python'."
   ]
  },
  {
   "cell_type": "code",
   "execution_count": null,
   "metadata": {},
   "outputs": [],
   "source": [
    "df.replace({'animal': 'serpiente'}, 'python')"
   ]
  },
  {
   "cell_type": "markdown",
   "metadata": {},
   "source": [
    "21. Para cada tipo de animal y cada número de visitas, encuentre la edad media. En otras palabras, cada fila es un animal, cada columna es un número de visitas y los valores son las edades medias"
   ]
  },
  {
   "cell_type": "code",
   "execution_count": null,
   "metadata": {},
   "outputs": [],
   "source": [
    "Table= pd.pivot_table(df, values= 'edad', index='animal', columns = 'visitas', aggfunc=np.mean)\n",
    "Table"
   ]
  },
  {
   "cell_type": "markdown",
   "metadata": {},
   "source": [
    "22. Se tiene un DataFrame df con una columna 'A' de enteros.\n",
    "\n",
    "df = pd.DataFrame({'A': [1, 2, 2, 3, 4, 5, 5, 5, 6, 7, 7]})\n",
    "¿Cómo se filtran las filas que contienen el mismo número entero que la fila inmediatamente superior?\n",
    "\n",
    "Debería quedarse con una columna que contiene los siguientes valores:\n",
    "\n",
    "1, 2, 3, 4, 5, 6, 7"
   ]
  },
  {
   "cell_type": "code",
   "execution_count": null,
   "metadata": {},
   "outputs": [],
   "source": [
    "df22 = pd.DataFrame({'A': [1, 2, 2, 3, 4, 5, 5, 5, 6, 7, 7]})\n",
    "df22\n",
    "df22.drop_duplicates(['A'], keep='last')"
   ]
  },
  {
   "cell_type": "markdown",
   "metadata": {},
   "source": [
    "23. Dado un DataFrame de valores numéricos:\n",
    "\n",
    "df = pd.DataFrame(np.random.random(size=(5, 3))) # tabla de valores reales de 5x3  \n",
    "¿Cómo se resta la media de la fila de cada elemento de la fila?"
   ]
  },
  {
   "cell_type": "code",
   "execution_count": null,
   "metadata": {},
   "outputs": [],
   "source": [
    "df23 = pd.DataFrame(np.random.random(size=(5, 3))) \n",
    "print (df23)\n",
    "x= df23.mean(axis=1)\n",
    "print(x)\n",
    "df23.sub(df23.mean(axis=1), axis=0)"
   ]
  },
  {
   "cell_type": "markdown",
   "metadata": {},
   "source": [
    "24. Suponga que tiene DataFrame con 10 columnas de números reales, por ejemplo:\n",
    "\n",
    "df = pd.DataFrame(np.random.random(size=(5, 10)), columns=list('abcdefghij'))\n",
    "¿Qué columna de números tiene la suma más pequeña? Devuelva la etiqueta de esa columna."
   ]
  },
  {
   "cell_type": "code",
   "execution_count": null,
   "metadata": {},
   "outputs": [],
   "source": [
    "df24 = pd.DataFrame(np.random.random(size=(5, 10)), columns=list('abcdefghij')) \n",
    "print(df24)\n",
    "minimo= df24.sum()\n",
    "print(minimo)\n",
    "minimo.min()\n"
   ]
  },
  {
   "cell_type": "markdown",
   "metadata": {},
   "source": [
    "25. ¿Cómo se cuenta cuántas filas únicas tiene un DataFrame (es decir, ignora todas las filas que están duplicadas)? Como entrada, use un DataFrame de ceros y unos con 10 filas y 3 columnas.\n",
    "\n",
    "df = pd.DataFrame(np.random.randint(0, 2, size=(10, 3)))"
   ]
  },
  {
   "cell_type": "code",
   "execution_count": null,
   "metadata": {},
   "outputs": [],
   "source": [
    "df25 = pd.DataFrame(np.random.randint(0, 2, size=(10, 3)))\n",
    "F = df25.iloc[:,[0,1,2]]\n",
    "print(F)\n",
    "N= F.drop_duplicates(keep = 'last')\n",
    "print(N)\n"
   ]
  },
  {
   "cell_type": "markdown",
   "metadata": {},
   "source": [
    "26. En la celda a continuación, se tiene un DataFrame df que consta de 10 columnas de números reales. De esos exactamente 5 entradas en cada fila son valores de NaN.\n",
    "\n",
    "Para cada fila del DataFrame, busque la columna que contiene el tercer valor de NaN.\n",
    "\n",
    "Debe devolver una columna de etiquetas de la forma: e, c, d, h, d"
   ]
  },
  {
   "cell_type": "code",
   "execution_count": null,
   "metadata": {},
   "outputs": [],
   "source": [
    "nan = np.nan\n",
    "\n",
    "data = [[0.04,  nan,  nan, 0.25,  nan, 0.43, 0.71, 0.51,  nan,  nan],\n",
    "        [ nan,  nan,  nan, 0.04, 0.76,  nan,  nan, 0.67, 0.76, 0.16],\n",
    "        [ nan,  nan, 0.5 ,  nan, 0.31, 0.4 ,  nan,  nan, 0.24, 0.01],\n",
    "        [0.49,  nan,  nan, 0.62, 0.73, 0.26, 0.85,  nan,  nan,  nan],\n",
    "        [ nan,  nan, 0.41,  nan, 0.05,  nan, 0.61,  nan, 0.48, 0.68]]\n",
    "\n",
    "columnas = list('abcdefghij')\n",
    "\n",
    "df26 = pd.DataFrame(data, columns=columnas)\n",
    "print (df26)\n",
    "\n",
    "# write a solution to the question here\n",
    "(df26.isnull().cumsum(axis=1)==3).idxmax(axis=1)"
   ]
  },
  {
   "cell_type": "markdown",
   "metadata": {},
   "source": [
    "27. Implemente una media móvil el grupos con tamaño de ventana 3, que ignora el valor de NaN. Por ejemplo, considere el siguiente DataFrame::\n",
    "\n",
    ">>> df = pd.DataFrame({'group': list('aabbabbbabab'),\n",
    "                       'value': [1, 2, 3, np.nan, 2, 3, np.nan, 1, 7, 3, np.nan, 8]})\n",
    ">>> df\n",
    "   group  value\n",
    "0      a    1.0\n",
    "1      a    2.0\n",
    "2      b    3.0\n",
    "3      b    NaN\n",
    "4      a    2.0\n",
    "5      b    3.0\n",
    "6      b    NaN\n",
    "7      b    1.0\n",
    "8      a    7.0\n",
    "9      b    3.0\n",
    "10     a    NaN\n",
    "11     b    8.0\n",
    "The goal is to compute the Series:\n",
    "\n",
    "0     1.000000\n",
    "1     1.500000\n",
    "2     3.000000\n",
    "3     3.000000\n",
    "4     1.666667\n",
    "5     3.000000\n",
    "6     3.000000\n",
    "7     2.000000\n",
    "8     3.666667\n",
    "9     2.000000\n",
    "10    4.500000\n",
    "11    4.000000\n",
    "P.ej. la primera ventana de tamaño tres para el grupo 'b' tiene valores 3.0, NaN y 3.0 y ocurre en el índice de fila 5. En lugar de ser NaN, el valor en la nueva columna en este índice de fila debe ser 3.0 (solo los dos valores que no son NaN se utilizan para calcular la media (3 + 3) / 2)"
   ]
  },
  {
   "cell_type": "code",
   "execution_count": null,
   "metadata": {},
   "outputs": [],
   "source": [
    "df27 = pd.DataFrame({'group': list('aabbabbbabab'),\n",
    "                       'value': [1, 2, 3, np.nan, 2, 3, np.nan, 1, 7, 3, np.nan, 8]})\n",
    "print (df27)\n",
    "dfn=df27.groupby(['group'])['value']\n",
    "valc= df27.fillna(0).groupby(['group'])['value']\n",
    "x= valc.rolling(3, min_periods=1).sum()/dfn.rolling(3, min_periods=1).count()\n",
    "x\n",
    "x.reset_index(level=0, drop=True).sort_index()\n"
   ]
  }
 ],
 "metadata": {
  "kernelspec": {
   "display_name": "Python 3",
   "language": "python",
   "name": "python3"
  },
  "language_info": {
   "codemirror_mode": {
    "name": "ipython",
    "version": 3
   },
   "file_extension": ".py",
   "mimetype": "text/x-python",
   "name": "python",
   "nbconvert_exporter": "python",
   "pygments_lexer": "ipython3",
   "version": "3.8.3"
  }
 },
 "nbformat": 4,
 "nbformat_minor": 4
}
